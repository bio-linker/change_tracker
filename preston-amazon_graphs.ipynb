{
 "cells": [
  {
   "cell_type": "markdown",
   "metadata": {},
   "source": [
    "## Creation of the data graphs and records graph for the preston-amazon data set"
   ]
  },
  {
   "cell_type": "code",
   "execution_count": 29,
   "metadata": {},
   "outputs": [
    {
     "data": {
      "text/html": [
       "\n",
       "        <div>\n",
       "            <p><b>SparkContext</b></p>\n",
       "\n",
       "            <p><a href=\"http://localhost:4041\">Spark UI</a></p>\n",
       "\n",
       "            <dl>\n",
       "              <dt>Version</dt>\n",
       "                <dd><code>v2.4.0</code></dd>\n",
       "              <dt>Master</dt>\n",
       "                <dd><code>local[*]</code></dd>\n",
       "              <dt>AppName</dt>\n",
       "                <dd><code>PySparkShell</code></dd>\n",
       "            </dl>\n",
       "        </div>\n",
       "        "
      ],
      "text/plain": [
       "<SparkContext master=local[*] appName=PySparkShell>"
      ]
     },
     "execution_count": 29,
     "metadata": {},
     "output_type": "execute_result"
    }
   ],
   "source": [
    "# Verify that a Spark Context is running\n",
    "sc"
   ]
  },
  {
   "cell_type": "code",
   "execution_count": 30,
   "metadata": {},
   "outputs": [],
   "source": [
    "spark_df = spark.read.parquet(\"./preston-amazon/data-processed/core.parquet\")"
   ]
  },
  {
   "cell_type": "code",
   "execution_count": 31,
   "metadata": {},
   "outputs": [
    {
     "data": {
      "text/plain": [
       "3858"
      ]
     },
     "execution_count": 31,
     "metadata": {},
     "output_type": "execute_result"
    }
   ],
   "source": [
    "spark_df.count()"
   ]
  },
  {
   "cell_type": "code",
   "execution_count": 32,
   "metadata": {},
   "outputs": [
    {
     "data": {
      "text/plain": [
       "['http://rs.tdwg.org/dwc/terms/datasetID',\n",
       " 'http://rs.tdwg.org/dwc/terms/specificEpithet',\n",
       " 'http://rs.tdwg.org/dwc/terms/order',\n",
       " 'http://rs.tdwg.org/dwc/terms/taxonID',\n",
       " 'http://rs.tdwg.org/dwc/terms/country',\n",
       " 'http://plazi.org/terms/1.0/basionymYear',\n",
       " 'http://gbif.org/dwc/terms/1.0/canonicalName',\n",
       " 'undefined0',\n",
       " 'http://rs.tdwg.org/dwc/terms/basisOfRecord',\n",
       " 'http://plazi.org/terms/1.0/combinationYear',\n",
       " 'http://plazi.org/terms/1.0/basionymAuthors',\n",
       " 'http://rs.tdwg.org/dwc/terms/scientificName',\n",
       " 'http://rs.tdwg.org/dwc/terms/decimalLatitude',\n",
       " 'http://rs.tdwg.org/dwc/terms/eventDate',\n",
       " 'http://rs.tdwg.org/dwc/terms/waterBody',\n",
       " 'http://rs.tdwg.org/dwc/terms/acceptedNameUsageID',\n",
       " 'http://rs.tdwg.org/dwc/terms/locationID',\n",
       " 'http://rs.tdwg.org/dwc/terms/taxonRank',\n",
       " 'http://rs.tdwg.org/dwc/terms/institutionCode',\n",
       " 'http://rs.tdwg.org/dwc/terms/phylum',\n",
       " 'http://purl.org/dc/terms/references',\n",
       " 'http://rs.tdwg.org/dwc/terms/originalNameUsageID',\n",
       " 'http://rs.tdwg.org/dwc/terms/individualCount',\n",
       " 'http://rs.tdwg.org/dwc/terms/kingdom',\n",
       " 'http://rs.tdwg.org/dwc/terms/year',\n",
       " 'http://rs.tdwg.org/dwc/terms/eventID',\n",
       " 'http://rs.tdwg.org/dwc/terms/identificationQualifier',\n",
       " 'http://rs.tdwg.org/dwc/terms/namePublishedIn',\n",
       " 'http://rs.tdwg.org/dwc/terms/scientificNameAuthorship',\n",
       " 'http://rs.tdwg.org/dwc/terms/taxonomicStatus',\n",
       " 'http://rs.tdwg.org/dwc/terms/decimalLongitude',\n",
       " 'http://rs.tdwg.org/dwc/terms/locality',\n",
       " 'http://rs.tdwg.org/dwc/terms/parentNameUsageID',\n",
       " 'http://rs.tdwg.org/dwc/terms/catalogNumber',\n",
       " 'http://rs.tdwg.org/dwc/terms/collectionCode',\n",
       " 'http://plazi.org/terms/1.0/combinationAuthors',\n",
       " 'http://purl.org/dc/terms/license',\n",
       " 'http://purl.org/dc/terms/bibliographicCitation',\n",
       " 'http://purl.org/dc/terms/accessRights',\n",
       " 'http://rs.tdwg.org/dwc/terms/family',\n",
       " 'http://rs.tdwg.org/dwc/terms/dynamicProperties',\n",
       " 'http://plazi.org/terms/1.0/verbatimScientificName',\n",
       " 'http://rs.tdwg.org/dwc/terms/eventRemarks',\n",
       " 'http://rs.tdwg.org/dwc/terms/class',\n",
       " 'http://rs.tdwg.org/dwc/terms/occurrenceID',\n",
       " 'http://rs.tdwg.org/dwc/terms/nomenclaturalStatus',\n",
       " 'http://rs.tdwg.org/dwc/terms/genus',\n",
       " 'http://purl.org/dc/terms/rightsHolder',\n",
       " 'http://www.w3.org/ns/prov#wasDerivedFrom']"
      ]
     },
     "execution_count": 32,
     "metadata": {},
     "output_type": "execute_result"
    }
   ],
   "source": [
    "spark_df.columns"
   ]
  },
  {
   "cell_type": "markdown",
   "metadata": {},
   "source": [
    "### The fields selected to be used as index are:\n",
    "1) `http://rs.tdwg.org/dwc/terms/scientificName`<br>\n",
    "2) `http://rs.tdwg.org/dwc/terms/decimalLatitude`<br>\n",
    "3) `http://rs.tdwg.org/dwc/terms/decimalLongitude`<br>\n",
    "4) `http://rs.tdwg.org/dwc/terms/eventDate`<br>\n",
    "5) `http://rs.tdwg.org/dwc/terms/locality`<br>\n",
    "### NOTES:\n",
    "- waterBody and locality are highly correlated, but locality seems to have more variability and is more close to verbatim\n",
    "- All the other fields do not seem to be useful to uniquely identify the records, because:\n",
    "    - They are derived from the selected fields\n",
    "    - They are created in events posterior to the collection or by non collectors.  "
   ]
  },
  {
   "cell_type": "code",
   "execution_count": 33,
   "metadata": {},
   "outputs": [
    {
     "name": "stdout",
     "output_type": "stream",
     "text": [
      "+-------------------------------------------+\n",
      "|http://rs.tdwg.org/dwc/terms/scientificName|\n",
      "+-------------------------------------------+\n",
      "|                       Acestrorhynchus g...|\n",
      "|                       Charax sp. “Madeira”|\n",
      "|                       Ageneiosus inermi...|\n",
      "+-------------------------------------------+\n",
      "only showing top 3 rows\n",
      "\n"
     ]
    }
   ],
   "source": [
    "spark_df.select('`http://rs.tdwg.org/dwc/terms/scientificName`').show(3)"
   ]
  },
  {
   "cell_type": "code",
   "execution_count": 34,
   "metadata": {},
   "outputs": [],
   "source": [
    "import pandas as pd\n",
    "import networkx as nx\n",
    "from pyxdameraulevenshtein import normalized_damerau_levenshtein_distance"
   ]
  },
  {
   "cell_type": "markdown",
   "metadata": {},
   "source": [
    "## Creation of the Data Graphs"
   ]
  },
  {
   "cell_type": "markdown",
   "metadata": {},
   "source": [
    "### Scientific Name"
   ]
  },
  {
   "cell_type": "code",
   "execution_count": 65,
   "metadata": {},
   "outputs": [
    {
     "name": "stdout",
     "output_type": "stream",
     "text": [
      "708\n"
     ]
    }
   ],
   "source": [
    "sn_list = spark_df.select(\"`http://rs.tdwg.org/dwc/terms/scientificName`\").distinct().rdd.flatMap(lambda x: x).collect()\n",
    "print(len(sn_list))"
   ]
  },
  {
   "cell_type": "code",
   "execution_count": 44,
   "metadata": {},
   "outputs": [],
   "source": [
    "# Declare the graph of scientific names\n",
    "sn_G = nx.Graph()"
   ]
  },
  {
   "cell_type": "code",
   "execution_count": 45,
   "metadata": {},
   "outputs": [],
   "source": [
    "# Add the nodes to the graph\n",
    "i = 0\n",
    "while i < len(sn_list):\n",
    "    sn_G.add_node(sn_list[i])\n",
    "    i = i + 1"
   ]
  },
  {
   "cell_type": "code",
   "execution_count": 46,
   "metadata": {},
   "outputs": [
    {
     "name": "stdout",
     "output_type": "stream",
     "text": [
      "CPU times: user 13.7 s, sys: 0 ns, total: 13.7 s\n",
      "Wall time: 13.7 s\n"
     ]
    }
   ],
   "source": [
    "%%time\n",
    "# Add the edges to the graph\n",
    "i = 0\n",
    "j = 0\n",
    "while i < len(sn_list):\n",
    "    j = i+1\n",
    "    while j < len(sn_list):\n",
    "        if (i != j):\n",
    "            sim = 1 - normalized_damerau_levenshtein_distance (sn_list[i], sn_list[j])\n",
    "            if (sim > 0.6):\n",
    "                sn_G.add_edge(sn_list[i], sn_list[j], similarity=sim )\n",
    "        j = j + 1\n",
    "    i = i + 1"
   ]
  },
  {
   "cell_type": "markdown",
   "metadata": {},
   "source": [
    "### Decimal Latitude"
   ]
  },
  {
   "cell_type": "code",
   "execution_count": 66,
   "metadata": {},
   "outputs": [
    {
     "name": "stdout",
     "output_type": "stream",
     "text": [
      "65\n"
     ]
    }
   ],
   "source": [
    "lat_list = spark_df.select(\"`http://rs.tdwg.org/dwc/terms/decimalLatitude`\").na.drop(subset=[\"`http://rs.tdwg.org/dwc/terms/decimalLatitude`\"]).distinct().rdd.flatMap(lambda x: x).collect()\n",
    "print(len(lat_list))"
   ]
  },
  {
   "cell_type": "code",
   "execution_count": 67,
   "metadata": {},
   "outputs": [],
   "source": [
    "# Declare the graph of scientific names\n",
    "lat_G = nx.Graph()"
   ]
  },
  {
   "cell_type": "code",
   "execution_count": 68,
   "metadata": {},
   "outputs": [],
   "source": [
    "# Add the nodes to the graph\n",
    "i = 0\n",
    "while i < len(lat_list):\n",
    "    if lat_list[i]:\n",
    "        lat_G.add_node(str(lat_list[i]))\n",
    "    i = i + 1"
   ]
  },
  {
   "cell_type": "code",
   "execution_count": 69,
   "metadata": {},
   "outputs": [
    {
     "name": "stdout",
     "output_type": "stream",
     "text": [
      "CPU times: user 8 ms, sys: 0 ns, total: 8 ms\n",
      "Wall time: 8.17 ms\n"
     ]
    }
   ],
   "source": [
    "%%time\n",
    "# Add the edges to the graph\n",
    "i = 0\n",
    "j = 0\n",
    "while i < len(lat_list):\n",
    "    j = i+1\n",
    "    while j < len(lat_list):\n",
    "        if (i != j):\n",
    "            sim = 1 - normalized_damerau_levenshtein_distance (lat_list[i], lat_list[j])\n",
    "            if (sim > 0.6):\n",
    "                lat_G.add_edge(lat_list[i], lat_list[j], similarity=sim )\n",
    "        j = j + 1\n",
    "    i = i + 1"
   ]
  },
  {
   "cell_type": "markdown",
   "metadata": {},
   "source": [
    "### Decimal Longitude"
   ]
  },
  {
   "cell_type": "code",
   "execution_count": 70,
   "metadata": {},
   "outputs": [
    {
     "name": "stdout",
     "output_type": "stream",
     "text": [
      "65\n"
     ]
    }
   ],
   "source": [
    "lon_list = spark_df.select(\"`http://rs.tdwg.org/dwc/terms/decimalLongitude`\").na.drop(subset=[\"`http://rs.tdwg.org/dwc/terms/decimalLongitude`\"]).distinct().rdd.flatMap(lambda x: x).collect()\n",
    "print(len(lon_list))"
   ]
  },
  {
   "cell_type": "code",
   "execution_count": 71,
   "metadata": {},
   "outputs": [],
   "source": [
    "# Declare the graph of scientific names\n",
    "lon_G = nx.Graph()"
   ]
  },
  {
   "cell_type": "code",
   "execution_count": 72,
   "metadata": {},
   "outputs": [],
   "source": [
    "# Add the nodes to the graph\n",
    "i = 0\n",
    "while i < len(lon_list):\n",
    "    lon_G.add_node(lon_list[i])\n",
    "    i = i + 1"
   ]
  },
  {
   "cell_type": "code",
   "execution_count": 73,
   "metadata": {},
   "outputs": [
    {
     "name": "stdout",
     "output_type": "stream",
     "text": [
      "CPU times: user 8 ms, sys: 0 ns, total: 8 ms\n",
      "Wall time: 8.39 ms\n"
     ]
    }
   ],
   "source": [
    "%%time\n",
    "# Add the edges to the graph\n",
    "i = 0\n",
    "j = 0\n",
    "while i < len(lon_list):\n",
    "    j = i+1\n",
    "    while j < len(lon_list):\n",
    "        if (i != j):\n",
    "            sim = 1 - normalized_damerau_levenshtein_distance (lon_list[i], lon_list[j])\n",
    "            if (sim > 0.6):\n",
    "                lon_G.add_edge(lon_list[i], lon_list[j], similarity=sim )\n",
    "        j = j + 1\n",
    "    i = i + 1"
   ]
  },
  {
   "cell_type": "markdown",
   "metadata": {},
   "source": [
    "### Event Date"
   ]
  },
  {
   "cell_type": "code",
   "execution_count": 74,
   "metadata": {},
   "outputs": [
    {
     "name": "stdout",
     "output_type": "stream",
     "text": [
      "64\n"
     ]
    }
   ],
   "source": [
    "ed_list = spark_df.select(\"`http://rs.tdwg.org/dwc/terms/eventDate`\").na.drop(subset=[\"`http://rs.tdwg.org/dwc/terms/eventDate`\"]).distinct().rdd.flatMap(lambda x: x).collect()\n",
    "print(len(ed_list))"
   ]
  },
  {
   "cell_type": "code",
   "execution_count": 75,
   "metadata": {},
   "outputs": [],
   "source": [
    "# Declare the graph of scientific names\n",
    "ed_G = nx.Graph()"
   ]
  },
  {
   "cell_type": "code",
   "execution_count": 76,
   "metadata": {},
   "outputs": [],
   "source": [
    "# Add the nodes to the graph\n",
    "i = 0\n",
    "while i < len(ed_list):\n",
    "    ed_G.add_node(ed_list[i])\n",
    "    i = i + 1"
   ]
  },
  {
   "cell_type": "code",
   "execution_count": 77,
   "metadata": {},
   "outputs": [
    {
     "name": "stdout",
     "output_type": "stream",
     "text": [
      "CPU times: user 12 ms, sys: 0 ns, total: 12 ms\n",
      "Wall time: 10.2 ms\n"
     ]
    }
   ],
   "source": [
    "%%time\n",
    "# Add the edges to the graph\n",
    "i = 0\n",
    "j = 0\n",
    "while i < len(ed_list):\n",
    "    j = i+1\n",
    "    while j < len(ed_list):\n",
    "        if (i != j):\n",
    "            sim = 1 - normalized_damerau_levenshtein_distance (ed_list[i], ed_list[j])\n",
    "            if (sim > 0.6):\n",
    "                ed_G.add_edge(ed_list[i], ed_list[j], similarity=sim )\n",
    "        j = j + 1\n",
    "    i = i + 1"
   ]
  },
  {
   "cell_type": "markdown",
   "metadata": {},
   "source": [
    "### Locality"
   ]
  },
  {
   "cell_type": "code",
   "execution_count": 78,
   "metadata": {},
   "outputs": [
    {
     "name": "stdout",
     "output_type": "stream",
     "text": [
      "30\n"
     ]
    }
   ],
   "source": [
    "loc_list = spark_df.select(\"`http://rs.tdwg.org/dwc/terms/locality`\").na.drop(subset=[\"`http://rs.tdwg.org/dwc/terms/locality`\"]).distinct().rdd.flatMap(lambda x: x).collect()\n",
    "print(len(loc_list))"
   ]
  },
  {
   "cell_type": "code",
   "execution_count": 79,
   "metadata": {},
   "outputs": [],
   "source": [
    "# Declare the graph of scientific names\n",
    "loc_G = nx.Graph()"
   ]
  },
  {
   "cell_type": "code",
   "execution_count": 80,
   "metadata": {},
   "outputs": [],
   "source": [
    "# Add the nodes to the graph\n",
    "i = 0\n",
    "while i < len(loc_list):\n",
    "    loc_G.add_node(loc_list[i])\n",
    "    i = i + 1"
   ]
  },
  {
   "cell_type": "code",
   "execution_count": 81,
   "metadata": {},
   "outputs": [
    {
     "name": "stdout",
     "output_type": "stream",
     "text": [
      "CPU times: user 16 ms, sys: 0 ns, total: 16 ms\n",
      "Wall time: 13.4 ms\n"
     ]
    }
   ],
   "source": [
    "%%time\n",
    "# Add the edges to the graph\n",
    "i = 0\n",
    "j = 0\n",
    "while i < len(loc_list):\n",
    "    j = i+1\n",
    "    while j < len(loc_list):\n",
    "        if (i != j):\n",
    "            sim = 1 - normalized_damerau_levenshtein_distance (loc_list[i], loc_list[j])\n",
    "            if (sim > 0.6):\n",
    "                loc_G.add_edge(loc_list[i], loc_list[j], similarity=sim )\n",
    "        j = j + 1\n",
    "    i = i + 1"
   ]
  },
  {
   "cell_type": "markdown",
   "metadata": {},
   "source": [
    "## Creation of the Records Graph"
   ]
  },
  {
   "cell_type": "code",
   "execution_count": 85,
   "metadata": {},
   "outputs": [
    {
     "name": "stdout",
     "output_type": "stream",
     "text": [
      "3858\n"
     ]
    }
   ],
   "source": [
    "spark_df_5 = spark_df.select('`http://rs.tdwg.org/dwc/terms/scientificName`', \n",
    "                  '`http://rs.tdwg.org/dwc/terms/decimalLatitude`', \n",
    "                  '`http://rs.tdwg.org/dwc/terms/decimalLongitude`', \n",
    "                  '`http://rs.tdwg.org/dwc/terms/eventDate`', \n",
    "                  '`http://rs.tdwg.org/dwc/terms/locality`').toDF('s_name','latitude','longitude', 'date', 'locality')\n",
    "print(spark_df_5.count())"
   ]
  },
  {
   "cell_type": "code",
   "execution_count": 86,
   "metadata": {},
   "outputs": [
    {
     "name": "stdout",
     "output_type": "stream",
     "text": [
      "+--------------------+---------+---------+--------+--------------------+\n",
      "|              s_name| latitude|longitude|    date|            locality|\n",
      "+--------------------+---------+---------+--------+--------------------+\n",
      "|Acestrorhynchus g...|-11.47791|-67.99922|19/06/01|       Manuripi lake|\n",
      "|Charax sp. “Madeira”|  -12.578|-64.14555|28/07/02|  Itenez-Blanco lake|\n",
      "|Ageneiosus inermi...|-13.04162|-63.78932|26/07/02|Itenez-Blanco riv...|\n",
      "|Cyphocharax spilu...|-13.05622|-62.75549|11/08/02|         Itenez lake|\n",
      "|Moenkhausia dichr...|-13.17601|-63.25462|17/07/02|Itenez-San Antoni...|\n",
      "+--------------------+---------+---------+--------+--------------------+\n",
      "only showing top 5 rows\n",
      "\n"
     ]
    }
   ],
   "source": [
    "spark_df_5.show(5)"
   ]
  },
  {
   "cell_type": "code",
   "execution_count": 90,
   "metadata": {},
   "outputs": [
    {
     "name": "stdout",
     "output_type": "stream",
     "text": [
      "+----------+\n",
      "|sum(count)|\n",
      "+----------+\n",
      "|       831|\n",
      "+----------+\n",
      "\n"
     ]
    }
   ],
   "source": [
    "# Number of potential duplicates\n",
    "import pyspark.sql.functions as f\n",
    "\n",
    "spark_df_5.groupBy(spark_df_5.columns)\\\n",
    "    .count()\\\n",
    "    .where(f.col('count') > 1)\\\n",
    "    .select(f.sum('count'))\\\n",
    "    .show()"
   ]
  },
  {
   "cell_type": "code",
   "execution_count": 96,
   "metadata": {},
   "outputs": [],
   "source": [
    "df_dup = spark_df_5.groupBy(spark_df_5.columns)\\\n",
    "    .count()\\\n",
    "    .where(f.col('count') > 1)\\\n",
    "    .orderBy(f.asc(\"s_name\"))"
   ]
  },
  {
   "cell_type": "code",
   "execution_count": 99,
   "metadata": {},
   "outputs": [
    {
     "name": "stdout",
     "output_type": "stream",
     "text": [
      "+-----------------------------------+--------+---------+----+--------+-----+\n",
      "|s_name                             |latitude|longitude|date|locality|count|\n",
      "+-----------------------------------+--------+---------+----+--------+-----+\n",
      "|Abascantus grandis Becker 1977     |null    |null     |null|null    |2    |\n",
      "|Abascantus lobatus Stal 1864       |null    |null     |null|null    |2    |\n",
      "|Ablaptus amazonus Stal 1864        |null    |null     |null|null    |2    |\n",
      "|Ablaptus varicornis Walker 1867    |null    |null     |null|null    |2    |\n",
      "|Adoxoplatys willineri Kormilev 1949|null    |null     |null|null    |2    |\n",
      "|Agaclitus dromedarius Stal 1864    |null    |null     |null|null    |2    |\n",
      "|Agaclitus fallenii Stal 1864       |null    |null     |null|null    |2    |\n",
      "|Agrilus (Agrilus) caquetai         |null    |null     |null|null    |2    |\n",
      "|Agrilus (Agrilus) florae           |null    |null     |null|null    |2    |\n",
      "|Agroecus griseus Dallas 1851       |null    |null     |null|null    |2    |\n",
      "+-----------------------------------+--------+---------+----+--------+-----+\n",
      "only showing top 10 rows\n",
      "\n"
     ]
    }
   ],
   "source": [
    "df_dup.show(10, False)"
   ]
  },
  {
   "cell_type": "code",
   "execution_count": 110,
   "metadata": {},
   "outputs": [
    {
     "data": {
      "text/html": [
       "<div>\n",
       "<style scoped>\n",
       "    .dataframe tbody tr th:only-of-type {\n",
       "        vertical-align: middle;\n",
       "    }\n",
       "\n",
       "    .dataframe tbody tr th {\n",
       "        vertical-align: top;\n",
       "    }\n",
       "\n",
       "    .dataframe thead th {\n",
       "        text-align: right;\n",
       "    }\n",
       "</style>\n",
       "<table border=\"1\" class=\"dataframe\">\n",
       "  <thead>\n",
       "    <tr style=\"text-align: right;\">\n",
       "      <th></th>\n",
       "      <th>http://rs.tdwg.org/dwc/terms/datasetID</th>\n",
       "      <th>http://rs.tdwg.org/dwc/terms/specificEpithet</th>\n",
       "      <th>http://rs.tdwg.org/dwc/terms/order</th>\n",
       "      <th>http://rs.tdwg.org/dwc/terms/taxonID</th>\n",
       "      <th>http://rs.tdwg.org/dwc/terms/country</th>\n",
       "      <th>http://plazi.org/terms/1.0/basionymYear</th>\n",
       "      <th>http://gbif.org/dwc/terms/1.0/canonicalName</th>\n",
       "      <th>undefined0</th>\n",
       "      <th>http://rs.tdwg.org/dwc/terms/basisOfRecord</th>\n",
       "      <th>http://plazi.org/terms/1.0/combinationYear</th>\n",
       "      <th>...</th>\n",
       "      <th>http://rs.tdwg.org/dwc/terms/family</th>\n",
       "      <th>http://rs.tdwg.org/dwc/terms/dynamicProperties</th>\n",
       "      <th>http://plazi.org/terms/1.0/verbatimScientificName</th>\n",
       "      <th>http://rs.tdwg.org/dwc/terms/eventRemarks</th>\n",
       "      <th>http://rs.tdwg.org/dwc/terms/class</th>\n",
       "      <th>http://rs.tdwg.org/dwc/terms/occurrenceID</th>\n",
       "      <th>http://rs.tdwg.org/dwc/terms/nomenclaturalStatus</th>\n",
       "      <th>http://rs.tdwg.org/dwc/terms/genus</th>\n",
       "      <th>http://purl.org/dc/terms/rightsHolder</th>\n",
       "      <th>http://www.w3.org/ns/prov#wasDerivedFrom</th>\n",
       "    </tr>\n",
       "  </thead>\n",
       "  <tbody>\n",
       "    <tr>\n",
       "      <th>0</th>\n",
       "      <td>None</td>\n",
       "      <td>None</td>\n",
       "      <td>Hemiptera</td>\n",
       "      <td>F72087F4FFC2FFDB3F9400F381273A3C.taxon</td>\n",
       "      <td>None</td>\n",
       "      <td>None</td>\n",
       "      <td>Abascantus grandis</td>\n",
       "      <td>None</td>\n",
       "      <td>None</td>\n",
       "      <td>1977</td>\n",
       "      <td>...</td>\n",
       "      <td>Hemiptera (awaiting allocation)</td>\n",
       "      <td>None</td>\n",
       "      <td>Abascantus grandis Becker, 1977</td>\n",
       "      <td>None</td>\n",
       "      <td>Insecta</td>\n",
       "      <td>None</td>\n",
       "      <td>None</td>\n",
       "      <td>Abascantus</td>\n",
       "      <td>None</td>\n",
       "      <td>hash://sha256/c61c2622391ae5b8fabe7003c3228934...</td>\n",
       "    </tr>\n",
       "    <tr>\n",
       "      <th>1</th>\n",
       "      <td>None</td>\n",
       "      <td>None</td>\n",
       "      <td>Hemiptera</td>\n",
       "      <td>F72087F4FFC2FFDB3F9400F381273A3C.taxon</td>\n",
       "      <td>None</td>\n",
       "      <td>None</td>\n",
       "      <td>Abascantus grandis</td>\n",
       "      <td>None</td>\n",
       "      <td>None</td>\n",
       "      <td>1977</td>\n",
       "      <td>...</td>\n",
       "      <td>Hemiptera (awaiting allocation)</td>\n",
       "      <td>None</td>\n",
       "      <td>Abascantus grandis Becker, 1977</td>\n",
       "      <td>None</td>\n",
       "      <td>Insecta</td>\n",
       "      <td>None</td>\n",
       "      <td>None</td>\n",
       "      <td>Abascantus</td>\n",
       "      <td>None</td>\n",
       "      <td>hash://sha256/4256fd83db9270d2236776bc4bd45e22...</td>\n",
       "    </tr>\n",
       "  </tbody>\n",
       "</table>\n",
       "<p>2 rows × 49 columns</p>\n",
       "</div>"
      ],
      "text/plain": [
       "  http://rs.tdwg.org/dwc/terms/datasetID  \\\n",
       "0                                   None   \n",
       "1                                   None   \n",
       "\n",
       "  http://rs.tdwg.org/dwc/terms/specificEpithet  \\\n",
       "0                                         None   \n",
       "1                                         None   \n",
       "\n",
       "  http://rs.tdwg.org/dwc/terms/order    http://rs.tdwg.org/dwc/terms/taxonID  \\\n",
       "0                          Hemiptera  F72087F4FFC2FFDB3F9400F381273A3C.taxon   \n",
       "1                          Hemiptera  F72087F4FFC2FFDB3F9400F381273A3C.taxon   \n",
       "\n",
       "  http://rs.tdwg.org/dwc/terms/country  \\\n",
       "0                                 None   \n",
       "1                                 None   \n",
       "\n",
       "  http://plazi.org/terms/1.0/basionymYear  \\\n",
       "0                                    None   \n",
       "1                                    None   \n",
       "\n",
       "  http://gbif.org/dwc/terms/1.0/canonicalName undefined0  \\\n",
       "0                          Abascantus grandis       None   \n",
       "1                          Abascantus grandis       None   \n",
       "\n",
       "  http://rs.tdwg.org/dwc/terms/basisOfRecord  \\\n",
       "0                                       None   \n",
       "1                                       None   \n",
       "\n",
       "  http://plazi.org/terms/1.0/combinationYear  ...  \\\n",
       "0                                       1977  ...   \n",
       "1                                       1977  ...   \n",
       "\n",
       "  http://rs.tdwg.org/dwc/terms/family  \\\n",
       "0     Hemiptera (awaiting allocation)   \n",
       "1     Hemiptera (awaiting allocation)   \n",
       "\n",
       "  http://rs.tdwg.org/dwc/terms/dynamicProperties  \\\n",
       "0                                           None   \n",
       "1                                           None   \n",
       "\n",
       "  http://plazi.org/terms/1.0/verbatimScientificName  \\\n",
       "0                   Abascantus grandis Becker, 1977   \n",
       "1                   Abascantus grandis Becker, 1977   \n",
       "\n",
       "  http://rs.tdwg.org/dwc/terms/eventRemarks  \\\n",
       "0                                      None   \n",
       "1                                      None   \n",
       "\n",
       "  http://rs.tdwg.org/dwc/terms/class  \\\n",
       "0                            Insecta   \n",
       "1                            Insecta   \n",
       "\n",
       "  http://rs.tdwg.org/dwc/terms/occurrenceID  \\\n",
       "0                                      None   \n",
       "1                                      None   \n",
       "\n",
       "  http://rs.tdwg.org/dwc/terms/nomenclaturalStatus  \\\n",
       "0                                             None   \n",
       "1                                             None   \n",
       "\n",
       "  http://rs.tdwg.org/dwc/terms/genus http://purl.org/dc/terms/rightsHolder  \\\n",
       "0                         Abascantus                                  None   \n",
       "1                         Abascantus                                  None   \n",
       "\n",
       "            http://www.w3.org/ns/prov#wasDerivedFrom  \n",
       "0  hash://sha256/c61c2622391ae5b8fabe7003c3228934...  \n",
       "1  hash://sha256/4256fd83db9270d2236776bc4bd45e22...  \n",
       "\n",
       "[2 rows x 49 columns]"
      ]
     },
     "execution_count": 110,
     "metadata": {},
     "output_type": "execute_result"
    }
   ],
   "source": [
    "spark_df.filter((f.col('`http://rs.tdwg.org/dwc/terms/scientificName`') == \"Abascantus grandis Becker 1977\")).toPandas()\n",
    "#spark_df.filter((f.col('`http://rs.tdwg.org/dwc/terms/scientificName`') === \"Abascantus grandis Becker 1977\") & (f.col(\"`http://rs.tdwg.org/dwc/terms/decimalLatitude`\") == \"null\")).show(2, False)"
   ]
  },
  {
   "cell_type": "code",
   "execution_count": 111,
   "metadata": {},
   "outputs": [
    {
     "data": {
      "text/html": [
       "<div>\n",
       "<style scoped>\n",
       "    .dataframe tbody tr th:only-of-type {\n",
       "        vertical-align: middle;\n",
       "    }\n",
       "\n",
       "    .dataframe tbody tr th {\n",
       "        vertical-align: top;\n",
       "    }\n",
       "\n",
       "    .dataframe thead th {\n",
       "        text-align: right;\n",
       "    }\n",
       "</style>\n",
       "<table border=\"1\" class=\"dataframe\">\n",
       "  <thead>\n",
       "    <tr style=\"text-align: right;\">\n",
       "      <th></th>\n",
       "      <th>http://rs.tdwg.org/dwc/terms/datasetID</th>\n",
       "      <th>http://rs.tdwg.org/dwc/terms/specificEpithet</th>\n",
       "      <th>http://rs.tdwg.org/dwc/terms/order</th>\n",
       "      <th>http://rs.tdwg.org/dwc/terms/taxonID</th>\n",
       "      <th>http://rs.tdwg.org/dwc/terms/country</th>\n",
       "      <th>http://plazi.org/terms/1.0/basionymYear</th>\n",
       "      <th>http://gbif.org/dwc/terms/1.0/canonicalName</th>\n",
       "      <th>undefined0</th>\n",
       "      <th>http://rs.tdwg.org/dwc/terms/basisOfRecord</th>\n",
       "      <th>http://plazi.org/terms/1.0/combinationYear</th>\n",
       "      <th>...</th>\n",
       "      <th>http://rs.tdwg.org/dwc/terms/family</th>\n",
       "      <th>http://rs.tdwg.org/dwc/terms/dynamicProperties</th>\n",
       "      <th>http://plazi.org/terms/1.0/verbatimScientificName</th>\n",
       "      <th>http://rs.tdwg.org/dwc/terms/eventRemarks</th>\n",
       "      <th>http://rs.tdwg.org/dwc/terms/class</th>\n",
       "      <th>http://rs.tdwg.org/dwc/terms/occurrenceID</th>\n",
       "      <th>http://rs.tdwg.org/dwc/terms/nomenclaturalStatus</th>\n",
       "      <th>http://rs.tdwg.org/dwc/terms/genus</th>\n",
       "      <th>http://purl.org/dc/terms/rightsHolder</th>\n",
       "      <th>http://www.w3.org/ns/prov#wasDerivedFrom</th>\n",
       "    </tr>\n",
       "  </thead>\n",
       "  <tbody>\n",
       "    <tr>\n",
       "      <th>0</th>\n",
       "      <td>None</td>\n",
       "      <td>None</td>\n",
       "      <td>Hemiptera</td>\n",
       "      <td>F72087F4FFC2FFDB3F94012786C73AC4.taxon</td>\n",
       "      <td>None</td>\n",
       "      <td>None</td>\n",
       "      <td>Abascantus lobatus</td>\n",
       "      <td>None</td>\n",
       "      <td>None</td>\n",
       "      <td>1864</td>\n",
       "      <td>...</td>\n",
       "      <td>Hemiptera (awaiting allocation)</td>\n",
       "      <td>None</td>\n",
       "      <td>Abascantus lobatus Stål, 1864</td>\n",
       "      <td>None</td>\n",
       "      <td>Insecta</td>\n",
       "      <td>None</td>\n",
       "      <td>None</td>\n",
       "      <td>Abascantus</td>\n",
       "      <td>None</td>\n",
       "      <td>hash://sha256/c61c2622391ae5b8fabe7003c3228934...</td>\n",
       "    </tr>\n",
       "    <tr>\n",
       "      <th>1</th>\n",
       "      <td>None</td>\n",
       "      <td>None</td>\n",
       "      <td>Hemiptera</td>\n",
       "      <td>F72087F4FFC2FFDB3F94012786C73AC4.taxon</td>\n",
       "      <td>None</td>\n",
       "      <td>None</td>\n",
       "      <td>Abascantus lobatus</td>\n",
       "      <td>None</td>\n",
       "      <td>None</td>\n",
       "      <td>1864</td>\n",
       "      <td>...</td>\n",
       "      <td>Hemiptera (awaiting allocation)</td>\n",
       "      <td>None</td>\n",
       "      <td>Abascantus lobatus Stål, 1864</td>\n",
       "      <td>None</td>\n",
       "      <td>Insecta</td>\n",
       "      <td>None</td>\n",
       "      <td>None</td>\n",
       "      <td>Abascantus</td>\n",
       "      <td>None</td>\n",
       "      <td>hash://sha256/4256fd83db9270d2236776bc4bd45e22...</td>\n",
       "    </tr>\n",
       "  </tbody>\n",
       "</table>\n",
       "<p>2 rows × 49 columns</p>\n",
       "</div>"
      ],
      "text/plain": [
       "  http://rs.tdwg.org/dwc/terms/datasetID  \\\n",
       "0                                   None   \n",
       "1                                   None   \n",
       "\n",
       "  http://rs.tdwg.org/dwc/terms/specificEpithet  \\\n",
       "0                                         None   \n",
       "1                                         None   \n",
       "\n",
       "  http://rs.tdwg.org/dwc/terms/order    http://rs.tdwg.org/dwc/terms/taxonID  \\\n",
       "0                          Hemiptera  F72087F4FFC2FFDB3F94012786C73AC4.taxon   \n",
       "1                          Hemiptera  F72087F4FFC2FFDB3F94012786C73AC4.taxon   \n",
       "\n",
       "  http://rs.tdwg.org/dwc/terms/country  \\\n",
       "0                                 None   \n",
       "1                                 None   \n",
       "\n",
       "  http://plazi.org/terms/1.0/basionymYear  \\\n",
       "0                                    None   \n",
       "1                                    None   \n",
       "\n",
       "  http://gbif.org/dwc/terms/1.0/canonicalName undefined0  \\\n",
       "0                          Abascantus lobatus       None   \n",
       "1                          Abascantus lobatus       None   \n",
       "\n",
       "  http://rs.tdwg.org/dwc/terms/basisOfRecord  \\\n",
       "0                                       None   \n",
       "1                                       None   \n",
       "\n",
       "  http://plazi.org/terms/1.0/combinationYear  ...  \\\n",
       "0                                       1864  ...   \n",
       "1                                       1864  ...   \n",
       "\n",
       "  http://rs.tdwg.org/dwc/terms/family  \\\n",
       "0     Hemiptera (awaiting allocation)   \n",
       "1     Hemiptera (awaiting allocation)   \n",
       "\n",
       "  http://rs.tdwg.org/dwc/terms/dynamicProperties  \\\n",
       "0                                           None   \n",
       "1                                           None   \n",
       "\n",
       "  http://plazi.org/terms/1.0/verbatimScientificName  \\\n",
       "0                     Abascantus lobatus Stål, 1864   \n",
       "1                     Abascantus lobatus Stål, 1864   \n",
       "\n",
       "  http://rs.tdwg.org/dwc/terms/eventRemarks  \\\n",
       "0                                      None   \n",
       "1                                      None   \n",
       "\n",
       "  http://rs.tdwg.org/dwc/terms/class  \\\n",
       "0                            Insecta   \n",
       "1                            Insecta   \n",
       "\n",
       "  http://rs.tdwg.org/dwc/terms/occurrenceID  \\\n",
       "0                                      None   \n",
       "1                                      None   \n",
       "\n",
       "  http://rs.tdwg.org/dwc/terms/nomenclaturalStatus  \\\n",
       "0                                             None   \n",
       "1                                             None   \n",
       "\n",
       "  http://rs.tdwg.org/dwc/terms/genus http://purl.org/dc/terms/rightsHolder  \\\n",
       "0                         Abascantus                                  None   \n",
       "1                         Abascantus                                  None   \n",
       "\n",
       "            http://www.w3.org/ns/prov#wasDerivedFrom  \n",
       "0  hash://sha256/c61c2622391ae5b8fabe7003c3228934...  \n",
       "1  hash://sha256/4256fd83db9270d2236776bc4bd45e22...  \n",
       "\n",
       "[2 rows x 49 columns]"
      ]
     },
     "execution_count": 111,
     "metadata": {},
     "output_type": "execute_result"
    }
   ],
   "source": [
    "spark_df.filter((f.col('`http://rs.tdwg.org/dwc/terms/scientificName`') == \"Abascantus lobatus Stal 1864\")).toPandas()"
   ]
  },
  {
   "cell_type": "code",
   "execution_count": 112,
   "metadata": {},
   "outputs": [
    {
     "name": "stdout",
     "output_type": "stream",
     "text": [
      "  http://rs.tdwg.org/dwc/terms/datasetID  \\\n",
      "0                                   None   \n",
      "1                                   None   \n",
      "\n",
      "  http://rs.tdwg.org/dwc/terms/specificEpithet  \\\n",
      "0                                         None   \n",
      "1                                         None   \n",
      "\n",
      "  http://rs.tdwg.org/dwc/terms/order    http://rs.tdwg.org/dwc/terms/taxonID  \\\n",
      "0                          Hemiptera  F72087F4FFC2FFDB3F94012786C73AC4.taxon   \n",
      "1                          Hemiptera  F72087F4FFC2FFDB3F94012786C73AC4.taxon   \n",
      "\n",
      "  http://rs.tdwg.org/dwc/terms/country  \\\n",
      "0                                 None   \n",
      "1                                 None   \n",
      "\n",
      "  http://plazi.org/terms/1.0/basionymYear  \\\n",
      "0                                    None   \n",
      "1                                    None   \n",
      "\n",
      "  http://gbif.org/dwc/terms/1.0/canonicalName undefined0  \\\n",
      "0                          Abascantus lobatus       None   \n",
      "1                          Abascantus lobatus       None   \n",
      "\n",
      "  http://rs.tdwg.org/dwc/terms/basisOfRecord  \\\n",
      "0                                       None   \n",
      "1                                       None   \n",
      "\n",
      "  http://plazi.org/terms/1.0/combinationYear  ...  \\\n",
      "0                                       1864  ...   \n",
      "1                                       1864  ...   \n",
      "\n",
      "  http://rs.tdwg.org/dwc/terms/family  \\\n",
      "0     Hemiptera (awaiting allocation)   \n",
      "1     Hemiptera (awaiting allocation)   \n",
      "\n",
      "  http://rs.tdwg.org/dwc/terms/dynamicProperties  \\\n",
      "0                                           None   \n",
      "1                                           None   \n",
      "\n",
      "  http://plazi.org/terms/1.0/verbatimScientificName  \\\n",
      "0                     Abascantus lobatus Stål, 1864   \n",
      "1                     Abascantus lobatus Stål, 1864   \n",
      "\n",
      "  http://rs.tdwg.org/dwc/terms/eventRemarks  \\\n",
      "0                                      None   \n",
      "1                                      None   \n",
      "\n",
      "  http://rs.tdwg.org/dwc/terms/class  \\\n",
      "0                            Insecta   \n",
      "1                            Insecta   \n",
      "\n",
      "  http://rs.tdwg.org/dwc/terms/occurrenceID  \\\n",
      "0                                      None   \n",
      "1                                      None   \n",
      "\n",
      "  http://rs.tdwg.org/dwc/terms/nomenclaturalStatus  \\\n",
      "0                                             None   \n",
      "1                                             None   \n",
      "\n",
      "  http://rs.tdwg.org/dwc/terms/genus http://purl.org/dc/terms/rightsHolder  \\\n",
      "0                         Abascantus                                  None   \n",
      "1                         Abascantus                                  None   \n",
      "\n",
      "            http://www.w3.org/ns/prov#wasDerivedFrom  \n",
      "0  hash://sha256/c61c2622391ae5b8fabe7003c3228934...  \n",
      "1  hash://sha256/4256fd83db9270d2236776bc4bd45e22...  \n",
      "\n",
      "[2 rows x 49 columns]\n"
     ]
    }
   ],
   "source": [
    "print(spark_df.filter((f.col('`http://rs.tdwg.org/dwc/terms/scientificName`') == \"Abascantus lobatus Stal 1864\")).toPandas())"
   ]
  },
  {
   "cell_type": "code",
   "execution_count": null,
   "metadata": {},
   "outputs": [],
   "source": []
  }
 ],
 "metadata": {
  "kernelspec": {
   "display_name": "Python 3",
   "language": "python",
   "name": "python3"
  },
  "language_info": {
   "codemirror_mode": {
    "name": "ipython",
    "version": 3
   },
   "file_extension": ".py",
   "mimetype": "text/x-python",
   "name": "python",
   "nbconvert_exporter": "python",
   "pygments_lexer": "ipython3",
   "version": "3.7.2"
  }
 },
 "nbformat": 4,
 "nbformat_minor": 2
}
