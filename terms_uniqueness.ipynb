{
 "cells": [
  {
   "cell_type": "markdown",
   "metadata": {},
   "source": [
    "## The objective of this notebook is to determine what fields make a better job at uniquely identifying the rows or specimens in biocollections"
   ]
  },
  {
   "cell_type": "code",
   "execution_count": 39,
   "metadata": {},
   "outputs": [],
   "source": [
    "import pandas as pd\n",
    "from pyspark.sql.functions import isnull, when, count"
   ]
  },
  {
   "cell_type": "code",
   "execution_count": 40,
   "metadata": {},
   "outputs": [
    {
     "name": "stdout",
     "output_type": "stream",
     "text": [
      "Number of rows: 3858\n"
     ]
    }
   ],
   "source": [
    "dataset = spark.read.parquet(\"./preston-amazon/data-processed/core.parquet\")\n",
    "# dataset = dataset.fillna('')\n",
    "N = dataset.count()\n",
    "print(\"Number of rows: \" + str(N))"
   ]
  },
  {
   "cell_type": "code",
   "execution_count": 41,
   "metadata": {},
   "outputs": [],
   "source": [
    "df = pd.DataFrame( columns = ['term', 'n_val', 'rate_val', 'n_uniq', 'rate_uniq'] )\n"
   ]
  },
  {
   "cell_type": "code",
   "execution_count": 42,
   "metadata": {},
   "outputs": [],
   "source": [
    "i = 0\n",
    "for c in dataset.columns:\n",
    "    column_name = \"`\" + c + \"`\"\n",
    "    n_v = dataset.select( count(when(isnull(column_name), column_name)).alias(column_name) ).collect()[0][column_name]\n",
    "    n_v = N - n_v\n",
    "    n_c = dataset.select( column_name ).distinct().count()\n",
    "    df.loc[ i ] = [column_name, n_v, n_v/N, n_c, n_c/N]\n",
    "    i = i + 1"
   ]
  },
  {
   "cell_type": "code",
   "execution_count": 69,
   "metadata": {},
   "outputs": [],
   "source": [
    "df = df.sort_values(by='rate_uniq', ascending=False)\n",
    "pd.set_option('display.max_colwidth', 60)\n",
    "pd.options.display.float_format = '{:,.4f}'.format"
   ]
  },
  {
   "cell_type": "code",
   "execution_count": 70,
   "metadata": {},
   "outputs": [
    {
     "name": "stdout",
     "output_type": "stream",
     "text": [
      "                                                       term n_val  rate_val n_uniq  rate_uniq\n",
      "44              `http://rs.tdwg.org/dwc/terms/occurrenceID`  2966    0.7688   2967     0.7691\n",
      "7                                              `undefined0`  2966    0.7688   2967     0.7691\n",
      "11            `http://rs.tdwg.org/dwc/terms/scientificName`  3858    1.0000    708     0.1835\n",
      "20                    `http://purl.org/dc/terms/references`   892    0.2312    476     0.1234\n",
      "3                    `http://rs.tdwg.org/dwc/terms/taxonID`   892    0.2312    476     0.1234\n",
      "41      `http://plazi.org/terms/1.0/verbatimScientificName`   794    0.2058    455     0.1179\n",
      "6             `http://gbif.org/dwc/terms/1.0/canonicalName`   794    0.2058    451     0.1169\n",
      "33             `http://rs.tdwg.org/dwc/terms/catalogNumber`  1266    0.3281    442     0.1146\n",
      "46                     `http://rs.tdwg.org/dwc/terms/genus`  3853    0.9987    322     0.0835\n",
      "28  `http://rs.tdwg.org/dwc/terms/scientificNameAuthorship`  3439    0.8914    312     0.0809\n",
      "1            `http://rs.tdwg.org/dwc/terms/specificEpithet`  2777    0.7198    209     0.0542\n",
      "9              `http://plazi.org/terms/1.0/combinationYear`   719    0.1864    122     0.0316\n",
      "35          `http://plazi.org/terms/1.0/combinationAuthors`   719    0.1864    117     0.0303\n",
      "12           `http://rs.tdwg.org/dwc/terms/decimalLatitude`  2966    0.7688     66     0.0171\n",
      "30          `http://rs.tdwg.org/dwc/terms/decimalLongitude`  2966    0.7688     66     0.0171\n",
      "25                   `http://rs.tdwg.org/dwc/terms/eventID`  2966    0.7688     66     0.0171\n",
      "39                    `http://rs.tdwg.org/dwc/terms/family`  3852    0.9984     66     0.0171\n",
      "16                `http://rs.tdwg.org/dwc/terms/locationID`  2966    0.7688     66     0.0171\n",
      "13                 `http://rs.tdwg.org/dwc/terms/eventDate`  2966    0.7688     65     0.0168\n",
      "22           `http://rs.tdwg.org/dwc/terms/individualCount`  1266    0.3281     50     0.0130\n",
      "48               `http://www.w3.org/ns/prov#wasDerivedFrom`  3858    1.0000     37     0.0096\n",
      "31                  `http://rs.tdwg.org/dwc/terms/locality`  2966    0.7688     31     0.0080\n",
      "14                 `http://rs.tdwg.org/dwc/terms/waterBody`  2966    0.7688     23     0.0060\n",
      "2                      `http://rs.tdwg.org/dwc/terms/order`   886    0.2297     19     0.0049\n",
      "27           `http://rs.tdwg.org/dwc/terms/namePublishedIn`    99    0.0257     16     0.0041\n",
      "43                     `http://rs.tdwg.org/dwc/terms/class`   886    0.2297     10     0.0026\n",
      "19                    `http://rs.tdwg.org/dwc/terms/phylum`   886    0.2297      5     0.0013\n",
      "24                      `http://rs.tdwg.org/dwc/terms/year`  2966    0.7688      4     0.0010\n",
      "17                 `http://rs.tdwg.org/dwc/terms/taxonRank`  3858    1.0000      4     0.0010\n",
      "26   `http://rs.tdwg.org/dwc/terms/identificationQualifier`   101    0.0262      3     0.0008\n",
      "8              `http://rs.tdwg.org/dwc/terms/basisOfRecord`  2966    0.7688      3     0.0008\n",
      "40         `http://rs.tdwg.org/dwc/terms/dynamicProperties`  2966    0.7688      3     0.0008\n",
      "0                  `http://rs.tdwg.org/dwc/terms/datasetID`  2966    0.7688      2     0.0005\n",
      "23                   `http://rs.tdwg.org/dwc/terms/kingdom`  3858    1.0000      2     0.0005\n",
      "18           `http://rs.tdwg.org/dwc/terms/institutionCode`  2966    0.7688      2     0.0005\n",
      "34            `http://rs.tdwg.org/dwc/terms/collectionCode`  2966    0.7688      2     0.0005\n",
      "36                       `http://purl.org/dc/terms/license`  2966    0.7688      2     0.0005\n",
      "38                  `http://purl.org/dc/terms/accessRights`  2966    0.7688      2     0.0005\n",
      "42              `http://rs.tdwg.org/dwc/terms/eventRemarks`  2966    0.7688      2     0.0005\n",
      "4                    `http://rs.tdwg.org/dwc/terms/country`  2966    0.7688      2     0.0005\n",
      "47                  `http://purl.org/dc/terms/rightsHolder`  2966    0.7688      2     0.0005\n",
      "37         `http://purl.org/dc/terms/bibliographicCitation`  2966    0.7688      2     0.0005\n",
      "29           `http://rs.tdwg.org/dwc/terms/taxonomicStatus`     0    0.0000      1     0.0003\n",
      "15       `http://rs.tdwg.org/dwc/terms/acceptedNameUsageID`     0    0.0000      1     0.0003\n",
      "10             `http://plazi.org/terms/1.0/basionymAuthors`     0    0.0000      1     0.0003\n",
      "32         `http://rs.tdwg.org/dwc/terms/parentNameUsageID`     0    0.0000      1     0.0003\n",
      "5                 `http://plazi.org/terms/1.0/basionymYear`     0    0.0000      1     0.0003\n",
      "45       `http://rs.tdwg.org/dwc/terms/nomenclaturalStatus`     0    0.0000      1     0.0003\n",
      "21       `http://rs.tdwg.org/dwc/terms/originalNameUsageID`     0    0.0000      1     0.0003\n"
     ]
    }
   ],
   "source": [
    "print(df)"
   ]
  },
  {
   "cell_type": "code",
   "execution_count": 71,
   "metadata": {},
   "outputs": [
    {
     "name": "stdout",
     "output_type": "stream",
     "text": [
      "+-----------------------------------------+\n",
      "|http://rs.tdwg.org/dwc/terms/occurrenceID|\n",
      "+-----------------------------------------+\n",
      "|                                 33-37061|\n",
      "|                           244-37465-1175|\n",
      "|                                344-37463|\n",
      "|                           545-37479-1187|\n",
      "|                                742-37454|\n",
      "+-----------------------------------------+\n",
      "only showing top 5 rows\n",
      "\n"
     ]
    }
   ],
   "source": [
    "dataset = dataset.fillna('')\n",
    "dataset.select( \"`http://rs.tdwg.org/dwc/terms/occurrenceID`\" ).show(5)\n",
    "# `http://rs.tdwg.org/dwc/terms/occurrenceID`\n",
    "# An identifier for the Occurrence (as opposed to a particular digital record of the occurrence). In the absence \n",
    "# of a persistent global unique identifier, construct one from a combination of identifiers in the record that \n",
    "# will most closely make the occurrenceID globally unique."
   ]
  },
  {
   "cell_type": "code",
   "execution_count": 72,
   "metadata": {},
   "outputs": [
    {
     "name": "stdout",
     "output_type": "stream",
     "text": [
      "+--------------+\n",
      "|    undefined0|\n",
      "+--------------+\n",
      "|      33-37061|\n",
      "|244-37465-1175|\n",
      "|     344-37463|\n",
      "|545-37479-1187|\n",
      "|     742-37454|\n",
      "+--------------+\n",
      "only showing top 5 rows\n",
      "\n"
     ]
    }
   ],
   "source": [
    "dataset.select( \"`undefined0`\" ).show(5)"
   ]
  },
  {
   "cell_type": "code",
   "execution_count": 73,
   "metadata": {},
   "outputs": [
    {
     "name": "stdout",
     "output_type": "stream",
     "text": [
      "+----------------------------------------------------+\n",
      "|http://rs.tdwg.org/dwc/terms/scientificName         |\n",
      "+----------------------------------------------------+\n",
      "|Acestrorhynchus gr. lacustris (Lütken 1875)         |\n",
      "|Charax sp. “Madeira”                                |\n",
      "|Ageneiosus inermis (Linnaeus 1766)                  |\n",
      "|Cyphocharax spiluropsis (Eigenmann & Eigenmann 1889)|\n",
      "|Moenkhausia dichroura (Kner 1858)                   |\n",
      "+----------------------------------------------------+\n",
      "only showing top 5 rows\n",
      "\n"
     ]
    }
   ],
   "source": [
    "dataset.select( \"`http://rs.tdwg.org/dwc/terms/scientificName`\" ).show(5, truncate = False)"
   ]
  },
  {
   "cell_type": "code",
   "execution_count": 74,
   "metadata": {},
   "outputs": [
    {
     "name": "stdout",
     "output_type": "stream",
     "text": [
      "+--------------------------------------------------------------+\n",
      "|http://purl.org/dc/terms/references                           |\n",
      "+--------------------------------------------------------------+\n",
      "|http://treatment.plazi.org/id/F72087F4FFDDFFC43F94048A83903E5E|\n",
      "|http://treatment.plazi.org/id/F72087F4FFD6FFCF3F94044B816A3FA0|\n",
      "|http://treatment.plazi.org/id/03FD87FEFFFC353CFF655C111F8EF858|\n",
      "|http://treatment.plazi.org/id/F72087F4FFC8FFD13F94065E80C53D53|\n",
      "|http://treatment.plazi.org/id/F72087F4FFE1FFF83F94065E81EF3D52|\n",
      "+--------------------------------------------------------------+\n",
      "only showing top 5 rows\n",
      "\n"
     ]
    }
   ],
   "source": [
    "dataset.select( \"`http://purl.org/dc/terms/references`\" ).distinct().show(5, truncate = False)\n",
    "# `http://purl.org/dc/terms/references`\n",
    "# A related resource that is referenced, cited, or otherwise pointed to by the described resource."
   ]
  },
  {
   "cell_type": "code",
   "execution_count": 75,
   "metadata": {},
   "outputs": [
    {
     "name": "stdout",
     "output_type": "stream",
     "text": [
      "+--------------------------------------+\n",
      "|http://rs.tdwg.org/dwc/terms/taxonID  |\n",
      "+--------------------------------------+\n",
      "|F72087F4FFE1FFF83F94030E80923883.taxon|\n",
      "|F72087F4FFE4FFFC3F94053883D539FA.taxon|\n",
      "|F72087F4FFCDFFD43F94047580BA3FB6.taxon|\n",
      "|F72087F4FFCCFFD53F940126813F3AEB.taxon|\n",
      "|092A87F7FFCCFE0851DEA2898991FF48.taxon|\n",
      "+--------------------------------------+\n",
      "only showing top 5 rows\n",
      "\n"
     ]
    }
   ],
   "source": [
    "dataset.select( \"`http://rs.tdwg.org/dwc/terms/taxonID`\" ).distinct().show(5, truncate = False)\n",
    "# `http://rs.tdwg.org/dwc/terms/taxonID`\n",
    "# An identifier for the set of taxon information (data associated with the Taxon class). May be a global unique identifier or an identifier specific to the data set."
   ]
  },
  {
   "cell_type": "code",
   "execution_count": null,
   "metadata": {},
   "outputs": [],
   "source": [
    "# http://plazi.org/terms/1.0/combinationAuthors  -> Page Not Found\n",
    "\n",
    "\n",
    "\n"
   ]
  },
  {
   "cell_type": "code",
   "execution_count": 99,
   "metadata": {},
   "outputs": [
    {
     "name": "stdout",
     "output_type": "stream",
     "text": [
      "+----------------------------------------------------+--------+---------------------------+\n",
      "|sc_name                                             |date    |locality                   |\n",
      "+----------------------------------------------------+--------+---------------------------+\n",
      "|Acestrorhynchus gr. lacustris (Lütken 1875)         |19/06/01|Manuripi lake              |\n",
      "|Charax sp. “Madeira”                                |28/07/02|Itenez-Blanco lake         |\n",
      "|Ageneiosus inermis (Linnaeus 1766)                  |26/07/02|Itenez-Blanco river channel|\n",
      "|Cyphocharax spiluropsis (Eigenmann & Eigenmann 1889)|11/08/02|Itenez lake                |\n",
      "|Moenkhausia dichroura (Kner 1858)                   |17/07/02|Itenez-San Antonio lake    |\n",
      "+----------------------------------------------------+--------+---------------------------+\n",
      "only showing top 5 rows\n",
      "\n"
     ]
    }
   ],
   "source": [
    "from pyspark.sql.functions import concat_ws, col\n",
    "dataset_id = dataset.select('`http://rs.tdwg.org/dwc/terms/scientificName`', \n",
    "                            '`http://rs.tdwg.org/dwc/terms/eventDate`', \n",
    "                            '`http://rs.tdwg.org/dwc/terms/locality`'\n",
    "                           ).fillna('').toDF('sc_name','date', 'locality')\n",
    "dataset_id.show(5, False)"
   ]
  },
  {
   "cell_type": "code",
   "execution_count": 103,
   "metadata": {},
   "outputs": [
    {
     "name": "stdout",
     "output_type": "stream",
     "text": [
      "+-------------------------------------------------------------------------+\n",
      "|concat                                                                   |\n",
      "+-------------------------------------------------------------------------+\n",
      "|Acestrorhynchus gr. lacustris (Lütken 1875)|19/06/01|Manuripi lake       |\n",
      "|Charax sp. “Madeira”|28/07/02|Itenez-Blanco lake                         |\n",
      "|Ageneiosus inermis (Linnaeus 1766)|26/07/02|Itenez-Blanco river channel  |\n",
      "|Cyphocharax spiluropsis (Eigenmann & Eigenmann 1889)|11/08/02|Itenez lake|\n",
      "|Moenkhausia dichroura (Kner 1858)|17/07/02|Itenez-San Antonio lake       |\n",
      "+-------------------------------------------------------------------------+\n",
      "only showing top 5 rows\n",
      "\n"
     ]
    }
   ],
   "source": [
    "dataset_id_concat = dataset_id.withColumn(\"concat\", concat_ws(\"|\", *dataset_id.columns) )\n",
    "dataset_id_concat.select(\"concat\").show(5, False)"
   ]
  },
  {
   "cell_type": "code",
   "execution_count": 104,
   "metadata": {},
   "outputs": [
    {
     "name": "stdout",
     "output_type": "stream",
     "text": [
      "Number of different values: 3441(from 3858)\n"
     ]
    }
   ],
   "source": [
    "n_distinct_concat = dataset_id_concat.select( \"concat\" ).distinct().count()\n",
    "print(\"Number of different values: \" + str(n_distinct_concat) + \"(from 3858)\")"
   ]
  },
  {
   "cell_type": "code",
   "execution_count": 113,
   "metadata": {},
   "outputs": [
    {
     "name": "stdout",
     "output_type": "stream",
     "text": [
      "+-----------------------------------+----+--------+---+\n",
      "|sc_name                            |date|locality|n  |\n",
      "+-----------------------------------+----+--------+---+\n",
      "|Abascantus grandis Becker 1977     |    |        |2  |\n",
      "|Abascantus lobatus Stal 1864       |    |        |2  |\n",
      "|Ablaptus amazonus Stal 1864        |    |        |2  |\n",
      "|Ablaptus varicornis Walker 1867    |    |        |2  |\n",
      "|Adoxoplatys willineri Kormilev 1949|    |        |2  |\n",
      "|Agaclitus dromedarius Stal 1864    |    |        |2  |\n",
      "|Agaclitus fallenii Stal 1864       |    |        |2  |\n",
      "|Agrilus (Agrilus) caquetai         |    |        |2  |\n",
      "|Agrilus (Agrilus) florae           |    |        |2  |\n",
      "|Agroecus griseus Dallas 1851       |    |        |2  |\n",
      "+-----------------------------------+----+--------+---+\n",
      "only showing top 10 rows\n",
      "\n"
     ]
    }
   ],
   "source": [
    "dataset_id_n = dataset_id.groupBy('sc_name','date', 'locality').count().select('sc_name','date', 'locality', col('count').alias('n'))\n",
    "dataset_id_n.where(dataset_id_n.n > 1).orderBy(['sc_name','date']).show(10, False)"
   ]
  },
  {
   "cell_type": "code",
   "execution_count": 118,
   "metadata": {},
   "outputs": [
    {
     "name": "stdout",
     "output_type": "stream",
     "text": [
      "+------------------------------+----+--------+--------+-------+\n",
      "|sc_name                       |date|locality|latitude|country|\n",
      "+------------------------------+----+--------+--------+-------+\n",
      "|Abascantus grandis Becker 1977|    |        |        |       |\n",
      "|Abascantus grandis Becker 1977|    |        |        |       |\n",
      "+------------------------------+----+--------+--------+-------+\n",
      "\n"
     ]
    }
   ],
   "source": [
    "dataset.filter(dataset[\"`http://rs.tdwg.org/dwc/terms/scientificName`\"]==\"Abascantus grandis Becker 1977\").select(\n",
    "    '`http://rs.tdwg.org/dwc/terms/scientificName`', \n",
    "    '`http://rs.tdwg.org/dwc/terms/eventDate`', \n",
    "    '`http://rs.tdwg.org/dwc/terms/locality`',\n",
    "    '`http://rs.tdwg.org/dwc/terms/decimalLatitude`',\n",
    "    '`http://rs.tdwg.org/dwc/terms/country`'\n",
    "    ).fillna('').toDF('sc_name','date', 'locality', 'latitude', 'country').show(3, False)"
   ]
  },
  {
   "cell_type": "code",
   "execution_count": 119,
   "metadata": {},
   "outputs": [
    {
     "name": "stdout",
     "output_type": "stream",
     "text": [
      "+--------------------------------------+--------------------------------------------+----------------------------------+--------------------------------------+------------------------------------+---------------------------------------+-------------------------------------------+----------+------------------------------------------+------------------------------------------+------------------------------------------+-------------------------------------------+--------------------------------------------+--------------------------------------+--------------------------------------+------------------------------------------------+---------------------------------------+--------------------------------------+--------------------------------------------+-----------------------------------+--------------------------------------------------------------+------------------------------------------------+--------------------------------------------+------------------------------------+---------------------------------+------------------------------------+----------------------------------------------------+--------------------------------------------+-----------------------------------------------------+--------------------------------------------+---------------------------------------------+-------------------------------------+----------------------------------------------+------------------------------------------+-------------------------------------------+---------------------------------------------+--------------------------------+----------------------------------------------+-------------------------------------+-----------------------------------+----------------------------------------------+-------------------------------------------------+-----------------------------------------+----------------------------------+-----------------------------------------+------------------------------------------------+----------------------------------+-------------------------------------+------------------------------------------------------------------------------+\n",
      "|http://rs.tdwg.org/dwc/terms/datasetID|http://rs.tdwg.org/dwc/terms/specificEpithet|http://rs.tdwg.org/dwc/terms/order|http://rs.tdwg.org/dwc/terms/taxonID  |http://rs.tdwg.org/dwc/terms/country|http://plazi.org/terms/1.0/basionymYear|http://gbif.org/dwc/terms/1.0/canonicalName|undefined0|http://rs.tdwg.org/dwc/terms/basisOfRecord|http://plazi.org/terms/1.0/combinationYear|http://plazi.org/terms/1.0/basionymAuthors|http://rs.tdwg.org/dwc/terms/scientificName|http://rs.tdwg.org/dwc/terms/decimalLatitude|http://rs.tdwg.org/dwc/terms/eventDate|http://rs.tdwg.org/dwc/terms/waterBody|http://rs.tdwg.org/dwc/terms/acceptedNameUsageID|http://rs.tdwg.org/dwc/terms/locationID|http://rs.tdwg.org/dwc/terms/taxonRank|http://rs.tdwg.org/dwc/terms/institutionCode|http://rs.tdwg.org/dwc/terms/phylum|http://purl.org/dc/terms/references                           |http://rs.tdwg.org/dwc/terms/originalNameUsageID|http://rs.tdwg.org/dwc/terms/individualCount|http://rs.tdwg.org/dwc/terms/kingdom|http://rs.tdwg.org/dwc/terms/year|http://rs.tdwg.org/dwc/terms/eventID|http://rs.tdwg.org/dwc/terms/identificationQualifier|http://rs.tdwg.org/dwc/terms/namePublishedIn|http://rs.tdwg.org/dwc/terms/scientificNameAuthorship|http://rs.tdwg.org/dwc/terms/taxonomicStatus|http://rs.tdwg.org/dwc/terms/decimalLongitude|http://rs.tdwg.org/dwc/terms/locality|http://rs.tdwg.org/dwc/terms/parentNameUsageID|http://rs.tdwg.org/dwc/terms/catalogNumber|http://rs.tdwg.org/dwc/terms/collectionCode|http://plazi.org/terms/1.0/combinationAuthors|http://purl.org/dc/terms/license|http://purl.org/dc/terms/bibliographicCitation|http://purl.org/dc/terms/accessRights|http://rs.tdwg.org/dwc/terms/family|http://rs.tdwg.org/dwc/terms/dynamicProperties|http://plazi.org/terms/1.0/verbatimScientificName|http://rs.tdwg.org/dwc/terms/eventRemarks|http://rs.tdwg.org/dwc/terms/class|http://rs.tdwg.org/dwc/terms/occurrenceID|http://rs.tdwg.org/dwc/terms/nomenclaturalStatus|http://rs.tdwg.org/dwc/terms/genus|http://purl.org/dc/terms/rightsHolder|http://www.w3.org/ns/prov#wasDerivedFrom                                      |\n",
      "+--------------------------------------+--------------------------------------------+----------------------------------+--------------------------------------+------------------------------------+---------------------------------------+-------------------------------------------+----------+------------------------------------------+------------------------------------------+------------------------------------------+-------------------------------------------+--------------------------------------------+--------------------------------------+--------------------------------------+------------------------------------------------+---------------------------------------+--------------------------------------+--------------------------------------------+-----------------------------------+--------------------------------------------------------------+------------------------------------------------+--------------------------------------------+------------------------------------+---------------------------------+------------------------------------+----------------------------------------------------+--------------------------------------------+-----------------------------------------------------+--------------------------------------------+---------------------------------------------+-------------------------------------+----------------------------------------------+------------------------------------------+-------------------------------------------+---------------------------------------------+--------------------------------+----------------------------------------------+-------------------------------------+-----------------------------------+----------------------------------------------+-------------------------------------------------+-----------------------------------------+----------------------------------+-----------------------------------------+------------------------------------------------+----------------------------------+-------------------------------------+------------------------------------------------------------------------------+\n",
      "|                                      |                                            |Hemiptera                         |F72087F4FFC2FFDB3F9400F381273A3C.taxon|                                    |                                       |Abascantus grandis                         |          |                                          |1977                                      |                                          |Abascantus grandis Becker 1977             |                                            |                                      |                                      |                                                |                                       |species                               |                                            |Arthropoda                         |http://treatment.plazi.org/id/F72087F4FFC2FFDB3F9400F381273A3C|                                                |                                            |Animalia                            |                                 |                                    |                                                    |                                            |Becker 1977                                          |                                            |                                             |                                     |                                              |                                          |                                           |Becker                                       |                                |                                              |                                     |Hemiptera (awaiting allocation)    |                                              |Abascantus grandis Becker, 1977                  |                                         |Insecta                           |                                         |                                                |Abascantus                        |                                     |hash://sha256/c61c2622391ae5b8fabe7003c32289342a874d306724f7111e49b2a90d8be56c|\n",
      "|                                      |                                            |Hemiptera                         |F72087F4FFC2FFDB3F9400F381273A3C.taxon|                                    |                                       |Abascantus grandis                         |          |                                          |1977                                      |                                          |Abascantus grandis Becker 1977             |                                            |                                      |                                      |                                                |                                       |species                               |                                            |Arthropoda                         |http://treatment.plazi.org/id/F72087F4FFC2FFDB3F9400F381273A3C|                                                |                                            |Animalia                            |                                 |                                    |                                                    |                                            |Becker 1977                                          |                                            |                                             |                                     |                                              |                                          |                                           |Becker                                       |                                |                                              |                                     |Hemiptera (awaiting allocation)    |                                              |Abascantus grandis Becker, 1977                  |                                         |Insecta                           |                                         |                                                |Abascantus                        |                                     |hash://sha256/4256fd83db9270d2236776bc4bd45e22b15235e0798ba59952f8ddd1f7fbe7b2|\n",
      "+--------------------------------------+--------------------------------------------+----------------------------------+--------------------------------------+------------------------------------+---------------------------------------+-------------------------------------------+----------+------------------------------------------+------------------------------------------+------------------------------------------+-------------------------------------------+--------------------------------------------+--------------------------------------+--------------------------------------+------------------------------------------------+---------------------------------------+--------------------------------------+--------------------------------------------+-----------------------------------+--------------------------------------------------------------+------------------------------------------------+--------------------------------------------+------------------------------------+---------------------------------+------------------------------------+----------------------------------------------------+--------------------------------------------+-----------------------------------------------------+--------------------------------------------+---------------------------------------------+-------------------------------------+----------------------------------------------+------------------------------------------+-------------------------------------------+---------------------------------------------+--------------------------------+----------------------------------------------+-------------------------------------+-----------------------------------+----------------------------------------------+-------------------------------------------------+-----------------------------------------+----------------------------------+-----------------------------------------+------------------------------------------------+----------------------------------+-------------------------------------+------------------------------------------------------------------------------+\n",
      "\n"
     ]
    }
   ],
   "source": [
    "dataset.filter(dataset[\"`http://rs.tdwg.org/dwc/terms/scientificName`\"]==\"Abascantus grandis Becker 1977\").show(3, False)"
   ]
  },
  {
   "cell_type": "code",
   "execution_count": null,
   "metadata": {},
   "outputs": [],
   "source": []
  }
 ],
 "metadata": {
  "kernelspec": {
   "display_name": "Python 3",
   "language": "python",
   "name": "python3"
  },
  "language_info": {
   "codemirror_mode": {
    "name": "ipython",
    "version": 3
   },
   "file_extension": ".py",
   "mimetype": "text/x-python",
   "name": "python",
   "nbconvert_exporter": "python",
   "pygments_lexer": "ipython3",
   "version": "3.7.2"
  }
 },
 "nbformat": 4,
 "nbformat_minor": 2
}
