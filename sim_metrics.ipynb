{
 "cells": [
  {
   "cell_type": "markdown",
   "metadata": {},
   "source": [
    "## The objective of this notebook is to compare several similarity metrics, in the area of biocollections, and envisioning the construction process of a similarity graph\n",
    "\n",
    "### Essential answers (from Dr. Fortes):\n",
    "- % of records with certain % of similarity\n",
    "- % of records with certain % of similarity considering n fields\n",
    "\n",
    "### Some implementation reasoning:\n",
    "- When we talk about similarity, we assume the existence of two strings or a ground true value which is compared to other test values. In the case of biocollection metadata, what to we want to compare to what?\n",
    "- A cross product of all the values of all the terms compared to all the other values seem too costly, computationally.\n",
    "- The similarity that is computed in this notebook does not have any biological knowledge: we do not consider similarity among specimens' families or genus or something similar. This is a general or ignorant procedure, considering the semantic value of the data.\n",
    "\n",
    "### Probabilistic databases: \n",
    "I checked some documentation about probabilistic databases, because they could be a good storage option for the processed data, but the available software I found is outdated or not mature enough. \n",
    "Moreover, most of these databases include probability values for the tuple (tuple-level uncertainty) or for some column (attribute-level uncertainty), not for the relations among values."
   ]
  },
  {
   "cell_type": "markdown",
   "metadata": {},
   "source": [
    "## Similarity analysis of the Scientific name"
   ]
  },
  {
   "cell_type": "code",
   "execution_count": 1,
   "metadata": {},
   "outputs": [],
   "source": [
    "import pandas as pd\n",
    "from pyspark.sql.functions import count, col"
   ]
  },
  {
   "cell_type": "code",
   "execution_count": 2,
   "metadata": {},
   "outputs": [
    {
     "name": "stdout",
     "output_type": "stream",
     "text": [
      "Number of rows: 3858\n"
     ]
    }
   ],
   "source": [
    "dataset = spark.read.parquet(\"./preston-amazon/data-processed/core.parquet\")\n",
    "dataset = dataset.fillna('')\n",
    "N = dataset.count()\n",
    "print(\"Number of rows: \" + str(N))"
   ]
  },
  {
   "cell_type": "code",
   "execution_count": 3,
   "metadata": {},
   "outputs": [],
   "source": [
    "df = pd.DataFrame( columns = ['sc_name', 'count'] )\n"
   ]
  },
  {
   "cell_type": "code",
   "execution_count": 4,
   "metadata": {},
   "outputs": [],
   "source": [
    "dataset_sn = dataset.groupBy(\"`http://rs.tdwg.org/dwc/terms/scientificName`\").count().select(col(\"`http://rs.tdwg.org/dwc/terms/scientificName`\").alias('sc_name'), col('count').alias('n'))"
   ]
  },
  {
   "cell_type": "code",
   "execution_count": 5,
   "metadata": {},
   "outputs": [
    {
     "data": {
      "text/plain": [
       "708"
      ]
     },
     "execution_count": 5,
     "metadata": {},
     "output_type": "execute_result"
    }
   ],
   "source": [
    "dataset_sn.count()\n",
    "# Number of different scientific names"
   ]
  },
  {
   "cell_type": "markdown",
   "metadata": {},
   "source": [
    "This means that for our collection of 3,858 records, the complete scientific name analysis would imply (708 x 708 / 2) - 708 = 249,924 comparisons.\n",
    "We should think about questions like:\n",
    "- Is it meaningful to conclude that a scientific name is 65% similar to another one?\n",
    "- Is it meaningful to conclude that a date is 70% similar to another one?"
   ]
  },
  {
   "cell_type": "code",
   "execution_count": 6,
   "metadata": {},
   "outputs": [
    {
     "name": "stdout",
     "output_type": "stream",
     "text": [
      "+-------------------------------------------+---+\n",
      "|sc_name                                    |n  |\n",
      "+-------------------------------------------+---+\n",
      "|Triportheus angulatus (Spix & Agassiz 1829)|51 |\n",
      "|Serrasalmus rhombeus (Linnaeus 1766)       |49 |\n",
      "|Pygocentrus nattereri Kner 1858            |49 |\n",
      "|Pimelodus blochii Valenciennes 1840        |48 |\n",
      "|Sorubim lima (Bloch & Schneider 1801)      |45 |\n",
      "|Ageneiosus inermis (Linnaeus 1766)         |43 |\n",
      "|Moenkhausia dichroura (Kner 1858)          |43 |\n",
      "|Roeboides affinis (Günther 1868)           |42 |\n",
      "|Schizodon fasciatus Spix & Agassiz 1829    |41 |\n",
      "|Acestrorhynchus gr. lacustris (Lütken 1875)|40 |\n",
      "+-------------------------------------------+---+\n",
      "only showing top 10 rows\n",
      "\n"
     ]
    }
   ],
   "source": [
    "dataset_sn.orderBy('count', ascending=False).show(10, False)"
   ]
  },
  {
   "cell_type": "code",
   "execution_count": 7,
   "metadata": {},
   "outputs": [],
   "source": [
    "sn_list = dataset_sn.select('sc_name').rdd.flatMap(lambda x: x).collect()"
   ]
  },
  {
   "cell_type": "code",
   "execution_count": 8,
   "metadata": {},
   "outputs": [
    {
     "name": "stdout",
     "output_type": "stream",
     "text": [
      "Arocera (Euopta) placens Walker 1867\n"
     ]
    }
   ],
   "source": [
    "print(sn_list[0])"
   ]
  },
  {
   "cell_type": "code",
   "execution_count": 9,
   "metadata": {},
   "outputs": [],
   "source": [
    "from pyxdameraulevenshtein import normalized_damerau_levenshtein_distance"
   ]
  },
  {
   "cell_type": "code",
   "execution_count": 10,
   "metadata": {},
   "outputs": [
    {
     "name": "stdout",
     "output_type": "stream",
     "text": [
      "0.9459459446370602\tRio indistinctus Fortes & Grazia 2000 - Rio distinctus Fortes & Grazia 2000\n",
      "0.9019607827067375\tEdessa rufodorsata Silva, Fernandes & Grazia 2006 - Edessa virididorsata Silva, Fernandes & Grazia 2006\n",
      "0.9677419364452362\tGonatopus neotropicus Olmi 1984 - Gonatopus neotropicus Olmi 1986\n",
      "CPU times: user 13.8 s, sys: 0 ns, total: 13.8 s\n",
      "Wall time: 13.8 s\n"
     ]
    }
   ],
   "source": [
    "%%time\n",
    "#subset = sn_list[0:100]\n",
    "subset = sn_list\n",
    "i = 0\n",
    "j = 0\n",
    "while i < len(subset):\n",
    "    j = i+1\n",
    "    while j < len(subset):\n",
    "        if (i != j):\n",
    "            sim = 1 - normalized_damerau_levenshtein_distance (subset[i], subset[j])\n",
    "            if (sim > 0.9):\n",
    "                print( str(sim) + \"\\t\" + subset[i] + \" - \" + subset[j] )\n",
    "        j = j + 1\n",
    "    i = i + 1"
   ]
  },
  {
   "cell_type": "markdown",
   "metadata": {},
   "source": [
    "In short terms, like scientific name, the Damerau Levenshtein similarity may be more useful than using n-grams.\n",
    "To have a better idea about how to implement it and how to present the results, I believe we should discuss: how do we expect these results are going to be used? "
   ]
  },
  {
   "cell_type": "markdown",
   "metadata": {},
   "source": [
    "## Utilization of the Edit (D-L) Distance and Jaccard Distance with NLTK to generate Similarity values"
   ]
  },
  {
   "cell_type": "code",
   "execution_count": 11,
   "metadata": {},
   "outputs": [],
   "source": [
    "import nltk"
   ]
  },
  {
   "cell_type": "code",
   "execution_count": 17,
   "metadata": {},
   "outputs": [
    {
     "name": "stdout",
     "output_type": "stream",
     "text": [
      "0.9459459459459459\tRio indistinctus Fortes & Grazia 2000 - Rio distinctus Fortes & Grazia 2000\n",
      "0.9019607843137255\tEdessa rufodorsata Silva, Fernandes & Grazia 2006 - Edessa virididorsata Silva, Fernandes & Grazia 2006\n",
      "0.967741935483871\tGonatopus neotropicus Olmi 1984 - Gonatopus neotropicus Olmi 1986\n",
      "CPU times: user 2min 50s, sys: 0 ns, total: 2min 50s\n",
      "Wall time: 2min 50s\n"
     ]
    }
   ],
   "source": [
    "%%time\n",
    "# subset = sn_list[0:4]\n",
    "subset = sn_list\n",
    "i = 0\n",
    "j = 0\n",
    "while i < len(subset):\n",
    "    j = i+1\n",
    "    while j < len(subset):\n",
    "        if (i != j):\n",
    "            max_length = len(subset[i])\n",
    "            if len(subset[j]) > max_length:\n",
    "                max_length = len(subset[j])\n",
    "            if max_length > 0:\n",
    "                distance = nltk.edit_distance( subset[i], subset[j] )\n",
    "                sim = 1 - (distance/max_length)\n",
    "                if (sim > 0.9):\n",
    "                    print( str(sim) + \"\\t\" + subset[i] + \" - \" + subset[j] )\n",
    "        j = j + 1\n",
    "    i = i + 1"
   ]
  },
  {
   "cell_type": "markdown",
   "metadata": {},
   "source": [
    "### Notes:\n",
    "- Results and values are the same in both libraries, with differences after the eight decimal position.\n",
    "- The NLTK implementation is much slower: 170s vs. 14s (~12x).\n",
    "- NLTK does not provide a normalized DL distance. That is why I had to implement it.\n",
    "\n",
    "## Edit distance (Damerau-Levenshtein):\n",
    "\"The edit distance is the number of characters that need to be substituted, inserted, or deleted, to transform s1 into s2.  For example, transforming \"rain\" to \"shine\" requires three steps, consisting of two substitutions and one insertion: \"rain\" -> \"sain\" -> \"shin\" -> \"shine\".  These operations could have been done in other orders, but at least three steps are needed.\"\n",
    "\n",
    "Taken from: https://www.nltk.org/_modules/nltk/metrics/distance.html\n",
    "\n",
    "## Jaccard Distance:\n",
    "Jaccard Distance depends on another concept called “Jaccard Similarity Index” which is (the number in both sets) / (the number in either set)\n",
    "\n",
    "J(X,Y) = |X∩Y| / |X∪Y|\n",
    "\n",
    "Then we can calculate the Jaccard Distance as follows:\n",
    "\n",
    "D(X,Y) = 1 – J(X,Y)\n",
    "\n",
    "For example, if we have two strings: “mapping” and “mappings”, the intersection of the two sets is 6 because there are 7 similar characters, but the “p” is repeated while we need a set, i.e. unique characters, and the union of the two sets is 7, so the Jaccard Similarity Index is 6/7 = 0.857 and the Jaccard Distance is 1 – 0.857 = 0.142\n",
    "\n",
    "Taken from: https://python.gotrained.com/nltk-edit-distance-jaccard-distance/ "
   ]
  },
  {
   "cell_type": "code",
   "execution_count": 22,
   "metadata": {},
   "outputs": [
    {
     "name": "stdout",
     "output_type": "stream",
     "text": [
      "0.9090909090909091\tArocera (Euopta) placens Walker 1867 - Arocera (Euopta) apta Walker 1867\n",
      "1.0\tRio indistinctus Fortes & Grazia 2000 - Rio distinctus Fortes & Grazia 2000\n",
      "0.9444444444444444\tApenesia truncaticeps Kieffer 1910 - Apenesia crenulata Kieffer 1910\n",
      "0.9411764705882353\tEdessa corallipes Erichson 1848 - Edessa alces Erichson 1848\n",
      "0.9047619047619048\tApenesia rostrum Azevedo & Batista 2002 - Apenesia megaventris Azevedo & Batista 2002\n",
      "0.9523809523809523\tElanela rafaeli Grazia, Barros & Barao 2016 - Elanela fernandes Grazia, Barros & Barao 2016\n",
      "0.9047619047619048\tEdessa xingu Fernandes & van Doesburg 2000 - Edessa guyanensis Fernandes & van Doesburg 2000\n",
      "0.95\tEdessa xingu Fernandes & van Doesburg 2000 - Edessa rondoniensis Fernandes & van Doesburg 2000\n",
      "0.95\tEdessa guyanensis Fernandes & van Doesburg 2000 - Edessa rondoniensis Fernandes & van Doesburg 2000\n",
      "0.9047619047619048\tAntiteuchus schuhi Engleman 1983 - Antiteuchus geometricus Engleman 1983\n",
      "0.9047619047619048\tAntiteuchus schuhi Engleman 1983 - Antiteuchus graziae Engleman 1983\n",
      "0.95\tAntiteuchus schuhi Engleman 1983 - Antiteuchus supinatus Engleman 1983\n",
      "0.9130434782608696\tAntiteuchus beckerae Fernandes & Grazia 2006 - Antiteuchus ledeburi Fernandes & Grazia 2006\n",
      "0.9090909090909091\tChinavia vanduzeei Schwertner & Grazia 2006 - Chinavia schuhi Schwertner & Grazia 2006\n",
      "0.9545454545454546\tPseudevoplitus amazonicus Grazia & Greve 2002 - Pseudevoplitus roraimensis Grazia & Greve 2002\n",
      "0.9545454545454546\tAntiteuchus marini Fernandes & Grazia 2006 - Antiteuchus amapensis Fernandes & Grazia 2006\n",
      "0.9545454545454546\tAntiteuchus marini Fernandes & Grazia 2006 - Antiteuchus simulatus Fernandes & Grazia 2006\n",
      "0.9444444444444444\tEdessa inclyta Walker 1868 - Edessa antica Walker 1868\n",
      "0.9615384615384616\tCyphocharax plumbeus (Eigenmann & Eigenmann 1889) - Cyphocharax spiluropsis (Eigenmann & Eigenmann 1889)\n",
      "0.9259259259259259\tCyphocharax plumbeus (Eigenmann & Eigenmann 1889) - Cyphocharax leucostictus (Eigenmann & Eigenmann 1889)\n",
      "0.9615384615384616\tCyphocharax spiluropsis (Eigenmann & Eigenmann 1889) - Cyphocharax leucostictus (Eigenmann & Eigenmann 1889)\n",
      "0.9375\tLincus incisus Rolston 1983 - Lincus anulatus Rolston 1983\n",
      "0.9130434782608696\tEdessa burmeisteri Fernandes & van Doesburg 2000 - Edessa nigromaculata Fernandes & van Doesburg 2000\n",
      "0.9047619047619048\tEdessa burmeisteri Fernandes & van Doesburg 2000 - Edessa rondoniensis Fernandes & van Doesburg 2000\n",
      "0.9444444444444444\tAntiteuchus mimeticus Ruckes 1964 - Antiteuchus punctissimus Ruckes 1964\n",
      "0.9285714285714286\tPorphyrochroa aliena - Porphyrochroa neblina\n",
      "0.9230769230769231\tApenesia singularis - Apenesia strigulata\n",
      "0.9090909090909091\tPseudanos trimaculatus (Kner 1858) - Psectrogaster rutiloides (Kner 1858)\n",
      "0.9375\tEdessa alces Erichson 1848 - Edessa discors Erichson 1848\n",
      "0.9411764705882353\tEdessa alces Erichson 1848 - Edessa helix Erichson 1848\n",
      "0.9130434782608696\tAntiteuchus ledeburi Fernandes & Grazia 2006 - Antiteuchus simulatus Fernandes & Grazia 2006\n",
      "0.9166666666666666\tEdessa rufodorsata Silva, Fernandes & Grazia 2006 - Edessa virididorsata Silva, Fernandes & Grazia 2006\n",
      "0.9583333333333334\tEdessa rufodorsata Silva, Fernandes & Grazia 2006 - Edessa luteovenulata Silva, Fernandes & Grazia 2006\n",
      "0.9375\tEdessa discors Erichson 1848 - Edessa urus Erichson 1848\n",
      "0.92\tPseudoplatystoma tigrinum (Valenciennes 1840) - Platydoras armatulus (Valenciennes 1840)\n",
      "0.9411764705882353\tEdessa moschus Erichson 1848 - Edessa urus Erichson 1848\n",
      "0.9090909090909091\tAntiteuchus geometricus Engleman 1983 - Antiteuchus graziae Engleman 1983\n",
      "0.9090909090909091\tAgeneiosus cf. brevis Steindachner 1881 - Ageneiosus brevis Steindachner 1881\n",
      "0.9047619047619048\tGonatopus neotropicus Olmi 1984 - Gonatopus campbelli Olmi 1984\n",
      "0.9047619047619048\tGonatopus neotropicus Olmi 1984 - Gonatopus neotropicus Olmi 1986\n",
      "0.9047619047619048\tEdessa rondoniensis Fernandes & van Doesburg 2000 - Edessa beckeri Fernandes & van Doesburg 2000\n",
      "0.9523809523809523\tDryinus multicarinatus Coelho, Aguiar et Engel - Dryinus hamulus Coelho, Aguiar et Engel\n",
      "1.0\tPorphyrochroa dactiloides - Porphyrochroa platypoderis\n",
      "1.0\tRio capsulatris Fortes & Grazia 2000 - Rio clipeatus Fortes & Grazia 2000\n",
      "0.9130434782608696\tAntiteuchus amapensis Fernandes & Grazia 2006 - Antiteuchus simulatus Fernandes & Grazia 2006\n",
      "0.9565217391304348\tEdessa virididorsata Silva, Fernandes & Grazia 2006 - Edessa luteovenulata Silva, Fernandes & Grazia 2006\n",
      "0.9130434782608696\tPsorus paraensis Fernandes, Grazia & Lobo 2008 - Psorus manuara Fernandes, Grazia & Lobo 2008\n",
      "CPU times: user 1.17 s, sys: 4 ms, total: 1.17 s\n",
      "Wall time: 1.17 s\n"
     ]
    }
   ],
   "source": [
    "%%time\n",
    "# subset = sn_list[0:100]\n",
    "subset = sn_list\n",
    "i = 0\n",
    "j = 0\n",
    "while i < len(subset):\n",
    "    j = i+1\n",
    "    while j < len(subset):\n",
    "        if (i != j):\n",
    "            sim = 1 - nltk.jaccard_distance( set(subset[i]), set(subset[j]) )\n",
    "            if (sim > 0.9):\n",
    "                print( str(sim) + \"\\t\" + subset[i] + \" - \" + subset[j] )\n",
    "        j = j + 1\n",
    "    i = i + 1"
   ]
  },
  {
   "cell_type": "markdown",
   "metadata": {},
   "source": [
    "### Notes:\n",
    "- In Jaccard, a similarity of 1.0 does not mean the strings are the same. (apple = plea)\n",
    "- Jaccard tends to give higher scores, is more relaxed in some sense, but that also permits to retrieve more candidates (of course, we could decrease the acceptance threshold at DL). At the end, it seems a matter of preference."
   ]
  },
  {
   "cell_type": "code",
   "execution_count": null,
   "metadata": {},
   "outputs": [],
   "source": []
  }
 ],
 "metadata": {
  "kernelspec": {
   "display_name": "Python 3",
   "language": "python",
   "name": "python3"
  },
  "language_info": {
   "codemirror_mode": {
    "name": "ipython",
    "version": 3
   },
   "file_extension": ".py",
   "mimetype": "text/x-python",
   "name": "python",
   "nbconvert_exporter": "python",
   "pygments_lexer": "ipython3",
   "version": "3.7.2"
  }
 },
 "nbformat": 4,
 "nbformat_minor": 2
}
