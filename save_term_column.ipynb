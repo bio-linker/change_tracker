{
 "cells": [
  {
   "cell_type": "code",
   "execution_count": 12,
   "metadata": {},
   "outputs": [],
   "source": [
    "from pyspark.sql.functions import row_number,lit, isnan\n",
    "from pyspark.sql.window import Window\n",
    "sqlContext.sql(\"set spark.sql.caseSensitive=true\")"
   ]
  },
  {
   "cell_type": "code",
   "execution_count": 13,
   "metadata": {},
   "outputs": [],
   "source": [
    "# Load the parquet files in a dataframe\n",
    "df = spark.read.parquet(\"/guoda/data/source=preston.acis.ufl.edu/dwca/core.parquet\")\n"
   ]
  },
  {
   "cell_type": "code",
   "execution_count": 20,
   "metadata": {},
   "outputs": [
    {
     "data": {
      "text/plain": [
       "['http://rs.tdwg.org/dwc/terms/datasetID',\n",
       " 'http://rs.tdwg.org/dwc/terms/specificEpithet',\n",
       " 'http://rs.tdwg.org/dwc/terms/order',\n",
       " 'http://rs.tdwg.org/dwc/terms/taxonID',\n",
       " 'http://rs.tdwg.org/dwc/terms/country',\n",
       " 'http://plazi.org/terms/1.0/basionymYear',\n",
       " 'http://gbif.org/dwc/terms/1.0/canonicalName',\n",
       " 'undefined0',\n",
       " 'http://rs.tdwg.org/dwc/terms/basisOfRecord',\n",
       " 'http://plazi.org/terms/1.0/combinationYear',\n",
       " 'http://plazi.org/terms/1.0/basionymAuthors',\n",
       " 'http://rs.tdwg.org/dwc/terms/scientificName',\n",
       " 'http://rs.tdwg.org/dwc/terms/decimalLatitude',\n",
       " 'http://rs.tdwg.org/dwc/terms/eventDate',\n",
       " 'http://rs.tdwg.org/dwc/terms/waterBody',\n",
       " 'http://rs.tdwg.org/dwc/terms/acceptedNameUsageID',\n",
       " 'http://rs.tdwg.org/dwc/terms/locationID',\n",
       " 'http://rs.tdwg.org/dwc/terms/taxonRank',\n",
       " 'http://rs.tdwg.org/dwc/terms/institutionCode',\n",
       " 'http://rs.tdwg.org/dwc/terms/phylum',\n",
       " 'http://purl.org/dc/terms/references',\n",
       " 'http://rs.tdwg.org/dwc/terms/originalNameUsageID',\n",
       " 'http://rs.tdwg.org/dwc/terms/individualCount',\n",
       " 'http://rs.tdwg.org/dwc/terms/kingdom',\n",
       " 'http://rs.tdwg.org/dwc/terms/year',\n",
       " 'http://rs.tdwg.org/dwc/terms/eventID',\n",
       " 'http://rs.tdwg.org/dwc/terms/identificationQualifier',\n",
       " 'http://rs.tdwg.org/dwc/terms/namePublishedIn',\n",
       " 'http://rs.tdwg.org/dwc/terms/scientificNameAuthorship',\n",
       " 'http://rs.tdwg.org/dwc/terms/taxonomicStatus',\n",
       " 'http://rs.tdwg.org/dwc/terms/decimalLongitude',\n",
       " 'http://rs.tdwg.org/dwc/terms/locality',\n",
       " 'http://rs.tdwg.org/dwc/terms/parentNameUsageID',\n",
       " 'http://rs.tdwg.org/dwc/terms/catalogNumber',\n",
       " 'http://rs.tdwg.org/dwc/terms/collectionCode',\n",
       " 'http://plazi.org/terms/1.0/combinationAuthors',\n",
       " 'http://purl.org/dc/terms/license',\n",
       " 'http://purl.org/dc/terms/bibliographicCitation',\n",
       " 'http://purl.org/dc/terms/accessRights',\n",
       " 'http://rs.tdwg.org/dwc/terms/family',\n",
       " 'http://rs.tdwg.org/dwc/terms/dynamicProperties',\n",
       " 'http://plazi.org/terms/1.0/verbatimScientificName',\n",
       " 'http://rs.tdwg.org/dwc/terms/eventRemarks',\n",
       " 'http://rs.tdwg.org/dwc/terms/class',\n",
       " 'http://rs.tdwg.org/dwc/terms/occurrenceID',\n",
       " 'http://rs.tdwg.org/dwc/terms/nomenclaturalStatus',\n",
       " 'http://rs.tdwg.org/dwc/terms/genus',\n",
       " 'http://purl.org/dc/terms/rightsHolder',\n",
       " 'http://www.w3.org/ns/prov#wasDerivedFrom',\n",
       " 'row_num']"
      ]
     },
     "execution_count": 20,
     "metadata": {},
     "output_type": "execute_result"
    }
   ],
   "source": [
    "df.columns\n",
    "# dict_empty_columns = {}\n",
    "\n",
    "# for column_name in df.columns:\n",
    "#     c = \"`\" + column_name + \"`\"\n",
    "#     n_empty = df.filter((datasets[ c ] == \"\") | df[ c ].isNull() | isnan(df[ c ])).count()\n",
    "#     dict_empty_columns[ column_name ] = n_empty\n",
    "\n",
    "# for column_name in dict_empty_columns:\n",
    "#     print( column_name + \"\\t\" + str(dict_empty_columns[ column_name ]) )"
   ]
  },
  {
   "cell_type": "code",
   "execution_count": 15,
   "metadata": {},
   "outputs": [],
   "source": [
    "# Add a column number to the dataframe\n",
    "w = Window().orderBy(lit('A'))\n",
    "df = df.withColumn(\"row_num\", row_number().over(w))"
   ]
  },
  {
   "cell_type": "code",
   "execution_count": 16,
   "metadata": {},
   "outputs": [],
   "source": [
    "# Create new dataframe with only the row number and the column\n",
    "df_column = df.select('row_num', '`http://rs.tdwg.org/dwc/terms/scientificName`')"
   ]
  },
  {
   "cell_type": "code",
   "execution_count": 17,
   "metadata": {},
   "outputs": [],
   "source": [
    "# Write the new dataframe to a file\n",
    "df_column.write.csv(\"/root/Icaro/scientific_name\", sep='\\t')"
   ]
  },
  {
   "cell_type": "code",
   "execution_count": null,
   "metadata": {},
   "outputs": [],
   "source": []
  }
 ],
 "metadata": {
  "kernelspec": {
   "display_name": "Python 3",
   "language": "python",
   "name": "python3"
  },
  "language_info": {
   "codemirror_mode": {
    "name": "ipython",
    "version": 3
   },
   "file_extension": ".py",
   "mimetype": "text/x-python",
   "name": "python",
   "nbconvert_exporter": "python",
   "pygments_lexer": "ipython3",
   "version": "3.7.1"
  }
 },
 "nbformat": 4,
 "nbformat_minor": 2
}
