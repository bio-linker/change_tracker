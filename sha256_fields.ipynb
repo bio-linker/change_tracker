{
 "cells": [
  {
   "cell_type": "code",
   "execution_count": 21,
   "metadata": {},
   "outputs": [],
   "source": [
    "from pyspark.sql.functions import sha2, concat_ws\n",
    "sqlContext = SQLContext(sc)"
   ]
  },
  {
   "cell_type": "code",
   "execution_count": 22,
   "metadata": {},
   "outputs": [],
   "source": [
    "# Load the information in the parquet folder to a dataframe\n",
    "df = spark.read.parquet(\"./preston-amazon/data-processed/core.parquet\")"
   ]
  },
  {
   "cell_type": "code",
   "execution_count": 26,
   "metadata": {},
   "outputs": [
    {
     "name": "stdout",
     "output_type": "stream",
     "text": [
      "+-------+--------+--------------------+\n",
      "|country|    date|                  sn|\n",
      "+-------+--------+--------------------+\n",
      "|Bolivia|19/06/01|Acestrorhynchus g...|\n",
      "|Bolivia|28/07/02|Charax sp. “Madeira”|\n",
      "|Bolivia|26/07/02|Ageneiosus inermi...|\n",
      "|Bolivia|11/08/02|Cyphocharax spilu...|\n",
      "|Bolivia|17/07/02|Moenkhausia dichr...|\n",
      "+-------+--------+--------------------+\n",
      "only showing top 5 rows\n",
      "\n"
     ]
    }
   ],
   "source": [
    "#\n",
    "df_id = df.select('`http://rs.tdwg.org/dwc/terms/country`', \n",
    "                  '`http://rs.tdwg.org/dwc/terms/eventDate`', \n",
    "                  '`http://rs.tdwg.org/dwc/terms/scientificName`').fillna('').toDF('country','date','sn')\n",
    "df_id.show(5)"
   ]
  },
  {
   "cell_type": "code",
   "execution_count": 27,
   "metadata": {},
   "outputs": [
    {
     "name": "stdout",
     "output_type": "stream",
     "text": [
      "+-------+--------+--------------------+--------------------+\n",
      "|country|    date|                  sn|              sha256|\n",
      "+-------+--------+--------------------+--------------------+\n",
      "|Bolivia|19/06/01|Acestrorhynchus g...|5281e84d548d56568...|\n",
      "|Bolivia|28/07/02|Charax sp. “Madeira”|08fde7bf652ce226e...|\n",
      "|Bolivia|26/07/02|Ageneiosus inermi...|422894b4bb77e9968...|\n",
      "|Bolivia|11/08/02|Cyphocharax spilu...|bdf69a1c76aee62c2...|\n",
      "|Bolivia|17/07/02|Moenkhausia dichr...|0655a299e41c6128e...|\n",
      "+-------+--------+--------------------+--------------------+\n",
      "only showing top 5 rows\n",
      "\n"
     ]
    }
   ],
   "source": [
    "#\n",
    "df_sha = df_id.withColumn(\"sha256\", sha2(concat_ws(\"\", *df_id.columns), 256))\n",
    "df_sha.show(5)"
   ]
  },
  {
   "cell_type": "code",
   "execution_count": 31,
   "metadata": {},
   "outputs": [
    {
     "name": "stdout",
     "output_type": "stream",
     "text": [
      "+----------------------------------------------------------------+-----+\n",
      "|sha256                                                          |count|\n",
      "+----------------------------------------------------------------+-----+\n",
      "|c3c72c72d1d257dca309e8f7ee9afe4a298d07b62e2ecb3e339df08012c3c2c5|1    |\n",
      "|c815590e9894c61db367d07fed5681e9c6711fd4005737e8a2835910fdf9bbe6|1    |\n",
      "|463c966faf77f6559b7a18072bb1f4fcce673a617e3f425b8bb261e19eccf56e|1    |\n",
      "|1bafb9ef3ff37f4bd39396b9edb4d411c95adac3f99bb37651517f3bd6d8d43b|1    |\n",
      "|c132534915fe4110a9697e97ba104451ab06e334babbe02c0cbeb4b17dae6120|1    |\n",
      "|573be371f01c76456ddc166b424cb1fb6151421c1fcead6c35c8241f4a7ca134|1    |\n",
      "|09119ac45570a8de0143e7b535e519ef7d036ded6bcb3975354ed8bad7ab48b4|1    |\n",
      "|94155dcb7b663606fa79db9619f0a24790cbd09b6e54e281e1a4b1dd6dc32f77|1    |\n",
      "|6ad47351a74a3cdee239603b2f5f7d265b06923757b93902ad38ff90b3b3e954|1    |\n",
      "|80cba9fdfbd73b3ae7ff769aa9dab5c7a9262f6549652bbafe9d760f394c3c27|1    |\n",
      "|00bdedb36bfe362e1a463d004ad8cbdf448e0e4a5eb8dc8a51a11c39ad64e11c|1    |\n",
      "|5d890577f35a8faf347d92312173b0bc9741cb525951a4a4525fe535e9c19d7d|1    |\n",
      "|1034ff5b28f4d24c4fc75f21cd06e44e9508f0150b49006d59492e67f6c2c24c|2    |\n",
      "|47a73382ce7b1a390edd299e5f0ca7ac5c86ec3e00933b9c8ca7f905197796fc|2    |\n",
      "|72fc55024ca57041b9d5d3d27b63fb64f2318beba394b1f73279921b3bb9aedf|1    |\n",
      "|f8954738fd80883a997b1cf5173213c1672554721e65961152a0e3c881c3d8d4|1    |\n",
      "|36428ed41407833e15e1ddeb9800e53c2e129b36d12d8f86f0df319a4b9c34eb|1    |\n",
      "|17e8eda9411b26c8182ce6a7a1530868f87e83c177c767da1fe3a8396abf2cbb|1    |\n",
      "|cb73f8f30bb659a18dc50c5cbf0442530399307da75c094fb2d489bb2c537005|1    |\n",
      "|6a9a6f918e2f5533f29baca6080601ddad1d9bdddce3959133f86bef153f81fa|1    |\n",
      "+----------------------------------------------------------------+-----+\n",
      "only showing top 20 rows\n",
      "\n"
     ]
    }
   ],
   "source": [
    "df_sha.groupby('sha256').count().show(20, False)"
   ]
  },
  {
   "cell_type": "code",
   "execution_count": null,
   "metadata": {},
   "outputs": [],
   "source": []
  }
 ],
 "metadata": {
  "kernelspec": {
   "display_name": "Python 3",
   "language": "python",
   "name": "python3"
  },
  "language_info": {
   "codemirror_mode": {
    "name": "ipython",
    "version": 3
   },
   "file_extension": ".py",
   "mimetype": "text/x-python",
   "name": "python",
   "nbconvert_exporter": "python",
   "pygments_lexer": "ipython3",
   "version": "3.7.2"
  }
 },
 "nbformat": 4,
 "nbformat_minor": 2
}
